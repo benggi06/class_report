{
 "cells": [
  {
   "cell_type": "code",
   "execution_count": 1,
   "id": "7a473915",
   "metadata": {},
   "outputs": [],
   "source": [
    "file = open('hello.txt','w')"
   ]
  },
  {
   "cell_type": "code",
   "execution_count": 2,
   "id": "f7cacba6",
   "metadata": {},
   "outputs": [
    {
     "data": {
      "text/plain": [
       "12"
      ]
     },
     "execution_count": 2,
     "metadata": {},
     "output_type": "execute_result"
    }
   ],
   "source": [
    "file.write('Hello, World')"
   ]
  },
  {
   "cell_type": "code",
   "execution_count": 3,
   "id": "ee098c60",
   "metadata": {},
   "outputs": [],
   "source": [
    "file.close()"
   ]
  },
  {
   "cell_type": "code",
   "execution_count": 5,
   "id": "ea91a243",
   "metadata": {},
   "outputs": [
    {
     "name": "stdout",
     "output_type": "stream",
     "text": [
      "Hello, World\n"
     ]
    }
   ],
   "source": [
    "file=open('hello.txt','r')\n",
    "s = file.read()\n",
    "print(s)\n",
    "file.close()"
   ]
  },
  {
   "cell_type": "code",
   "execution_count": 6,
   "id": "635298f2",
   "metadata": {},
   "outputs": [
    {
     "name": "stdout",
     "output_type": "stream",
     "text": [
      "Hello, World\n"
     ]
    }
   ],
   "source": [
    "with open('hello.txt','r') as file:\n",
    "    s = file.read()\n",
    "    print(s)"
   ]
  },
  {
   "cell_type": "code",
   "execution_count": 11,
   "id": "44c9dbcd",
   "metadata": {},
   "outputs": [],
   "source": [
    "with open('hello.txt','w') as file:\n",
    "    for i in range(5):\n",
    "        file.write('hello world {0}'.format(i))"
   ]
  },
  {
   "cell_type": "code",
   "execution_count": 15,
   "id": "89ad1087",
   "metadata": {},
   "outputs": [],
   "source": [
    "lines = ['Hello\\n','World\\n','fuck\\n','you\\n','bitch']"
   ]
  },
  {
   "cell_type": "code",
   "execution_count": 16,
   "id": "3d5180df",
   "metadata": {},
   "outputs": [],
   "source": [
    "with open('hello.txt','w') as file:\n",
    "    file.writelines(lines)"
   ]
  },
  {
   "cell_type": "code",
   "execution_count": 18,
   "id": "8a5f20b0",
   "metadata": {},
   "outputs": [
    {
     "name": "stdout",
     "output_type": "stream",
     "text": [
      "['Hello\\n', 'World\\n', 'fuck\\n', 'you\\n', 'bitch']\n"
     ]
    }
   ],
   "source": [
    "with open('hello.txt','r') as file:\n",
    "    lines=file.readlines()\n",
    "    print(lines)"
   ]
  },
  {
   "cell_type": "code",
   "execution_count": 21,
   "id": "3467510c",
   "metadata": {},
   "outputs": [
    {
     "name": "stdout",
     "output_type": "stream",
     "text": [
      "Hello\n",
      "World\n",
      "fuck\n",
      "you\n",
      "bitch"
     ]
    }
   ],
   "source": [
    "with open('hello.txt','r') as file:\n",
    "    for line in file:\n",
    "        print(line,end='')"
   ]
  },
  {
   "cell_type": "code",
   "execution_count": 22,
   "id": "c887370b",
   "metadata": {},
   "outputs": [],
   "source": [
    "score={'국어':90,'수학':100,'영어':80}"
   ]
  },
  {
   "cell_type": "code",
   "execution_count": 23,
   "id": "76b23705",
   "metadata": {},
   "outputs": [],
   "source": [
    "import pickle\n",
    "with open('score.pkl','wb') as file:\n",
    "    pickle.dump(score,file)"
   ]
  },
  {
   "cell_type": "code",
   "execution_count": 24,
   "id": "ce559bfc",
   "metadata": {},
   "outputs": [
    {
     "name": "stdout",
     "output_type": "stream",
     "text": [
      "{'국어': 90, '수학': 100, '영어': 80}\n"
     ]
    }
   ],
   "source": [
    "with open('score.pkl','rb') as file:\n",
    "    score2=pickle.load(file)\n",
    "    print(score2)"
   ]
  },
  {
   "cell_type": "code",
   "execution_count": 25,
   "id": "eb563323",
   "metadata": {},
   "outputs": [
    {
     "data": {
      "text/plain": [
       "dict"
      ]
     },
     "execution_count": 25,
     "metadata": {},
     "output_type": "execute_result"
    }
   ],
   "source": [
    "type(score2)"
   ]
  },
  {
   "cell_type": "code",
   "execution_count": null,
   "id": "ff6c9181",
   "metadata": {},
   "outputs": [],
   "source": []
  }
 ],
 "metadata": {
  "kernelspec": {
   "display_name": "Python 3 (ipykernel)",
   "language": "python",
   "name": "python3"
  },
  "language_info": {
   "codemirror_mode": {
    "name": "ipython",
    "version": 3
   },
   "file_extension": ".py",
   "mimetype": "text/x-python",
   "name": "python",
   "nbconvert_exporter": "python",
   "pygments_lexer": "ipython3",
   "version": "3.9.7"
  }
 },
 "nbformat": 4,
 "nbformat_minor": 5
}
