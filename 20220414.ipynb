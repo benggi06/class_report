{
 "cells": [
  {
   "cell_type": "code",
   "execution_count": 7,
   "id": "11ac8fcd",
   "metadata": {},
   "outputs": [
    {
     "name": "stdout",
     "output_type": "stream",
     "text": [
      "Hello World\n",
      "Hello World\n",
      "Hello World\n",
      "Hello World\n",
      "Hello World\n",
      "Hello World\n",
      "Hello World\n",
      "Hello World\n",
      "Hello World\n",
      "Hello World\n",
      "Hello World\n",
      "Hello World\n",
      "Hello World\n",
      "Hello World\n",
      "Hello World\n",
      "Hello World\n",
      "Hello World\n",
      "Hello World\n",
      "Hello World\n",
      "Hello World\n",
      "Hello World\n",
      "Hello World\n",
      "Hello World\n",
      "Hello World\n",
      "Hello World\n",
      "Hello World\n",
      "Hello World\n",
      "Hello World\n",
      "Hello World\n",
      "Hello World\n",
      "Hello World\n",
      "Hello World\n",
      "Hello World\n",
      "Hello World\n",
      "Hello World\n",
      "Hello World\n",
      "Hello World\n",
      "Hello World\n",
      "Hello World\n",
      "Hello World\n",
      "Hello World\n",
      "Hello World\n",
      "Hello World\n",
      "Hello World\n",
      "Hello World\n",
      "Hello World\n",
      "Hello World\n",
      "Hello World\n",
      "Hello World\n",
      "Hello World\n",
      "Hello World\n",
      "Hello World\n",
      "Hello World\n",
      "Hello World\n",
      "Hello World\n",
      "Hello World\n",
      "Hello World\n",
      "Hello World\n",
      "Hello World\n",
      "Hello World\n",
      "Hello World\n",
      "Hello World\n",
      "Hello World\n",
      "Hello World\n",
      "Hello World\n",
      "Hello World\n",
      "Hello World\n",
      "Hello World\n",
      "Hello World\n",
      "Hello World\n",
      "Hello World\n",
      "Hello World\n",
      "Hello World\n",
      "Hello World\n",
      "Hello World\n",
      "Hello World\n",
      "Hello World\n",
      "Hello World\n",
      "Hello World\n",
      "Hello World\n",
      "Hello World\n",
      "Hello World\n",
      "Hello World\n",
      "Hello World\n",
      "Hello World\n",
      "Hello World\n",
      "Hello World\n",
      "Hello World\n",
      "Hello World\n",
      "Hello World\n",
      "Hello World\n",
      "Hello World\n",
      "Hello World\n",
      "Hello World\n",
      "Hello World\n",
      "Hello World\n",
      "Hello World\n",
      "Hello World\n",
      "Hello World\n",
      "Hello World\n"
     ]
    }
   ],
   "source": [
    "i = 100\n",
    "\n",
    "while i>0:\n",
    "    print('Hello World')\n",
    "    i-=1"
   ]
  },
  {
   "cell_type": "code",
   "execution_count": 11,
   "id": "d27673a2",
   "metadata": {},
   "outputs": [
    {
     "name": "stdout",
     "output_type": "stream",
     "text": [
      "반복횟수를 입력하세요.: 3\n",
      "Hello World\n",
      "Hello World\n",
      "Hello World\n"
     ]
    }
   ],
   "source": [
    "count = int(input('반복횟수를 입력하세요.: '))\n",
    "i=0\n",
    "while i<count:\n",
    "    print('Hello World')\n",
    "    i+=1"
   ]
  },
  {
   "cell_type": "code",
   "execution_count": 28,
   "id": "2d2b5524",
   "metadata": {},
   "outputs": [
    {
     "data": {
      "text/plain": [
       "6"
      ]
     },
     "execution_count": 28,
     "metadata": {},
     "output_type": "execute_result"
    }
   ],
   "source": [
    "import random\n",
    "\n",
    "random.random()\n",
    "random.randint(1,7)\n",
    "\n"
   ]
  },
  {
   "cell_type": "code",
   "execution_count": 34,
   "id": "044277de",
   "metadata": {},
   "outputs": [
    {
     "name": "stdout",
     "output_type": "stream",
     "text": [
      "2\n",
      "6\n",
      "4\n",
      "5\n",
      "6\n",
      "6\n",
      "6\n",
      "3\n"
     ]
    }
   ],
   "source": [
    "i=0\n",
    "\n",
    "while i != 3:\n",
    "    i = random.randint(1,6)\n",
    "    print(i)"
   ]
  },
  {
   "cell_type": "code",
   "execution_count": 53,
   "id": "0470617d",
   "metadata": {},
   "outputs": [
    {
     "name": "stdout",
     "output_type": "stream",
     "text": [
      "1\n",
      "1\n",
      "1\n",
      "2\n",
      "5\n",
      "4\n",
      "1\n",
      "3\n"
     ]
    }
   ],
   "source": [
    "while True:\n",
    "    i = random.randint(1,6)\n",
    "    print(i)\n",
    "    if (i == ):\n",
    "        break\n",
    "    "
   ]
  },
  {
   "cell_type": "code",
   "execution_count": 58,
   "id": "da9320e2",
   "metadata": {},
   "outputs": [
    {
     "name": "stdout",
     "output_type": "stream",
     "text": [
      "1은 91 2는 112 3은 85 4는 115 5는 88 6은110\n"
     ]
    }
   ],
   "source": [
    "import random\n",
    "i = 0\n",
    "count1 = 0\n",
    "count2 = 0\n",
    "count3 = 0\n",
    "count4 = 0\n",
    "count5 = 0\n",
    "count6 = 0\n",
    "\n",
    "while i <= 600:\n",
    "    j = random.randint(1,6)\n",
    "    \n",
    "    if (j == 1):\n",
    "        count1 +=1\n",
    "    elif (j == 2):\n",
    "        count2 +=1\n",
    "    elif (j == 3):\n",
    "        count3 +=1\n",
    "    elif (j == 4):\n",
    "        count4 +=1\n",
    "    elif (j == 5):\n",
    "        count5 +=1\n",
    "    elif (j == 6):\n",
    "        count6 +=1\n",
    "    i +=1\n",
    "print(\"1은 {0} 2는 {1} 3은 {2} 4는 {3} 5는 {4} 6은{5}\".format(count1,count2,count3,count4,count5,count6))    \n",
    "    "
   ]
  },
  {
   "cell_type": "code",
   "execution_count": 60,
   "id": "a89ea99c",
   "metadata": {},
   "outputs": [
    {
     "name": "stdout",
     "output_type": "stream",
     "text": [
      "1의 개수 87\n",
      "2의 개수 97\n",
      "3의 개수 96\n",
      "4의 개수 99\n",
      "5의 개수 122\n",
      "6의 개수 100\n"
     ]
    }
   ],
   "source": [
    "import random\n",
    "i = 0\n",
    "\n",
    "count = [0,0,0,0,0,0]\n",
    "\n",
    "while i <= 600:\n",
    "    num = random.randint(1,6)\n",
    "    count[num-1] += 1\n",
    "    i+=1\n",
    "for j in range(6):\n",
    "    print(str(j+1)+'의 개수',count[j])\n",
    "    "
   ]
  },
  {
   "cell_type": "code",
   "execution_count": 65,
   "id": "95ab12b3",
   "metadata": {},
   "outputs": [
    {
     "name": "stdout",
     "output_type": "stream",
     "text": [
      "내 점수 : 9 ,4 승 1 무 5 패\n"
     ]
    }
   ],
   "source": [
    "import random\n",
    "game = 10\n",
    "\n",
    "count = [0,0,0,0,0,0]\n",
    "\n",
    "score = 0\n",
    "\n",
    "win = 0\n",
    "\n",
    "draw = 0\n",
    "\n",
    "lose = 0\n",
    "while game > 0:\n",
    "    app = random.randint(1,6)\n",
    "    me = random.randint(1,6)\n",
    "    \n",
    "    \n",
    "    if me > app:\n",
    "        score +=2\n",
    "        win +=1\n",
    "    elif app == me:\n",
    "        score +=1\n",
    "        draw +=1\n",
    "    else:\n",
    "        lose+=1\n",
    "    game -= 1\n",
    "    \n",
    "print(\"내 점수 :\",score,\",{0} 승 {1} 무 {2} 패\".format(win,draw,lose))  \n",
    "    \n",
    "# for j in range(6):\n",
    "#     print(str(j+1)+'의 개수',count[j])\n",
    "    \n",
    "\n"
   ]
  },
  {
   "cell_type": "code",
   "execution_count": null,
   "id": "ed11f3d6",
   "metadata": {},
   "outputs": [],
   "source": []
  }
 ],
 "metadata": {
  "kernelspec": {
   "display_name": "Python 3 (ipykernel)",
   "language": "python",
   "name": "python3"
  },
  "language_info": {
   "codemirror_mode": {
    "name": "ipython",
    "version": 3
   },
   "file_extension": ".py",
   "mimetype": "text/x-python",
   "name": "python",
   "nbconvert_exporter": "python",
   "pygments_lexer": "ipython3",
   "version": "3.9.7"
  }
 },
 "nbformat": 4,
 "nbformat_minor": 5
}
