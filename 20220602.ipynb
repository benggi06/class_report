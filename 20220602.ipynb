{
 "cells": [
  {
   "cell_type": "code",
   "execution_count": 6,
   "id": "a22ec4ab",
   "metadata": {},
   "outputs": [
    {
     "data": {
      "text/plain": [
       "2"
      ]
     },
     "execution_count": 6,
     "metadata": {},
     "output_type": "execute_result"
    }
   ],
   "source": [
    "def factorial(n):\n",
    "    if n == 1:\n",
    "        return 1\n",
    "    return n * factorial(n-1)\n",
    "factorial(2)"
   ]
  },
  {
   "cell_type": "code",
   "execution_count": 7,
   "id": "b237a2a2",
   "metadata": {},
   "outputs": [
    {
     "data": {
      "text/plain": [
       "5040"
      ]
     },
     "execution_count": 7,
     "metadata": {},
     "output_type": "execute_result"
    }
   ],
   "source": [
    "factorial(7)"
   ]
  },
  {
   "cell_type": "code",
   "execution_count": 10,
   "id": "6f01db2b",
   "metadata": {},
   "outputs": [],
   "source": [
    "x={'a':10,'b':20,'c':30,'d':40}"
   ]
  },
  {
   "cell_type": "code",
   "execution_count": 11,
   "id": "b3b89ece",
   "metadata": {},
   "outputs": [],
   "source": [
    "x.setdefault('e')"
   ]
  },
  {
   "cell_type": "code",
   "execution_count": 12,
   "id": "f04defc2",
   "metadata": {},
   "outputs": [
    {
     "data": {
      "text/plain": [
       "{'a': 10, 'b': 20, 'c': 30, 'd': 40, 'e': None}"
      ]
     },
     "execution_count": 12,
     "metadata": {},
     "output_type": "execute_result"
    }
   ],
   "source": [
    "x"
   ]
  },
  {
   "cell_type": "code",
   "execution_count": 13,
   "id": "87b3ded7",
   "metadata": {},
   "outputs": [
    {
     "data": {
      "text/plain": [
       "60"
      ]
     },
     "execution_count": 13,
     "metadata": {},
     "output_type": "execute_result"
    }
   ],
   "source": [
    "x.setdefault('f',60)"
   ]
  },
  {
   "cell_type": "code",
   "execution_count": 14,
   "id": "46d60dd0",
   "metadata": {},
   "outputs": [
    {
     "data": {
      "text/plain": [
       "{'a': 10, 'b': 20, 'c': 30, 'd': 40, 'e': None, 'f': 60}"
      ]
     },
     "execution_count": 14,
     "metadata": {},
     "output_type": "execute_result"
    }
   ],
   "source": [
    "x"
   ]
  },
  {
   "cell_type": "code",
   "execution_count": 15,
   "id": "78a319ea",
   "metadata": {},
   "outputs": [],
   "source": [
    "x.update(e=50)"
   ]
  },
  {
   "cell_type": "code",
   "execution_count": 16,
   "id": "9cc768ab",
   "metadata": {},
   "outputs": [
    {
     "data": {
      "text/plain": [
       "{'a': 10, 'b': 20, 'c': 30, 'd': 40, 'e': 50, 'f': 60}"
      ]
     },
     "execution_count": 16,
     "metadata": {},
     "output_type": "execute_result"
    }
   ],
   "source": [
    "x"
   ]
  },
  {
   "cell_type": "code",
   "execution_count": 17,
   "id": "b26c3539",
   "metadata": {},
   "outputs": [],
   "source": [
    "x.update(g=70)"
   ]
  },
  {
   "cell_type": "code",
   "execution_count": 18,
   "id": "391eb13a",
   "metadata": {},
   "outputs": [
    {
     "data": {
      "text/plain": [
       "{'a': 10, 'b': 20, 'c': 30, 'd': 40, 'e': 50, 'f': 60, 'g': 70}"
      ]
     },
     "execution_count": 18,
     "metadata": {},
     "output_type": "execute_result"
    }
   ],
   "source": [
    "x"
   ]
  },
  {
   "cell_type": "code",
   "execution_count": 19,
   "id": "f872a0dd",
   "metadata": {},
   "outputs": [
    {
     "ename": "SyntaxError",
     "evalue": "expression cannot contain assignment, perhaps you meant \"==\"? (Temp/ipykernel_9440/1999405919.py, line 1)",
     "output_type": "error",
     "traceback": [
      "\u001b[1;36m  File \u001b[1;32m\"C:\\Users\\LG435\\AppData\\Local\\Temp/ipykernel_9440/1999405919.py\"\u001b[1;36m, line \u001b[1;32m1\u001b[0m\n\u001b[1;33m    x.update(1=400)\u001b[0m\n\u001b[1;37m             ^\u001b[0m\n\u001b[1;31mSyntaxError\u001b[0m\u001b[1;31m:\u001b[0m expression cannot contain assignment, perhaps you meant \"==\"?\n"
     ]
    }
   ],
   "source": [
    "x.update(1=400)"
   ]
  },
  {
   "cell_type": "code",
   "execution_count": 20,
   "id": "0c05c19a",
   "metadata": {},
   "outputs": [],
   "source": [
    "x.update({1:100,2:200})"
   ]
  },
  {
   "cell_type": "code",
   "execution_count": 21,
   "id": "5f612af9",
   "metadata": {},
   "outputs": [
    {
     "data": {
      "text/plain": [
       "{'a': 10, 'b': 20, 'c': 30, 'd': 40, 'e': 50, 'f': 60, 'g': 70, 1: 100, 2: 200}"
      ]
     },
     "execution_count": 21,
     "metadata": {},
     "output_type": "execute_result"
    }
   ],
   "source": [
    "x"
   ]
  },
  {
   "cell_type": "code",
   "execution_count": 22,
   "id": "8a7481a0",
   "metadata": {},
   "outputs": [],
   "source": [
    "x.update([[2,200],[3,400]])"
   ]
  },
  {
   "cell_type": "code",
   "execution_count": 23,
   "id": "228a82e1",
   "metadata": {},
   "outputs": [
    {
     "data": {
      "text/plain": [
       "{'a': 10,\n",
       " 'b': 20,\n",
       " 'c': 30,\n",
       " 'd': 40,\n",
       " 'e': 50,\n",
       " 'f': 60,\n",
       " 'g': 70,\n",
       " 1: 100,\n",
       " 2: 200,\n",
       " 3: 400}"
      ]
     },
     "execution_count": 23,
     "metadata": {},
     "output_type": "execute_result"
    }
   ],
   "source": [
    "x"
   ]
  },
  {
   "cell_type": "code",
   "execution_count": 24,
   "id": "443c2ac9",
   "metadata": {},
   "outputs": [],
   "source": [
    "x.update([(5,500),(6,600)])"
   ]
  },
  {
   "cell_type": "code",
   "execution_count": 25,
   "id": "d45d2942",
   "metadata": {},
   "outputs": [
    {
     "data": {
      "text/plain": [
       "{'a': 10,\n",
       " 'b': 20,\n",
       " 'c': 30,\n",
       " 'd': 40,\n",
       " 'e': 50,\n",
       " 'f': 60,\n",
       " 'g': 70,\n",
       " 1: 100,\n",
       " 2: 200,\n",
       " 3: 400,\n",
       " 5: 500,\n",
       " 6: 600}"
      ]
     },
     "execution_count": 25,
     "metadata": {},
     "output_type": "execute_result"
    }
   ],
   "source": [
    "x"
   ]
  },
  {
   "cell_type": "code",
   "execution_count": 26,
   "id": "27fc1a90",
   "metadata": {},
   "outputs": [
    {
     "ename": "NameError",
     "evalue": "name '집' is not defined",
     "output_type": "error",
     "traceback": [
      "\u001b[1;31m---------------------------------------------------------------------------\u001b[0m",
      "\u001b[1;31mNameError\u001b[0m                                 Traceback (most recent call last)",
      "\u001b[1;32m~\\AppData\\Local\\Temp/ipykernel_9440/2462812329.py\u001b[0m in \u001b[0;36m<module>\u001b[1;34m\u001b[0m\n\u001b[1;32m----> 1\u001b[1;33m \u001b[0m집\u001b[0m\u001b[1;33m\u001b[0m\u001b[1;33m\u001b[0m\u001b[0m\n\u001b[0m",
      "\u001b[1;31mNameError\u001b[0m: name '집' is not defined"
     ]
    }
   ],
   "source": [
    "집\n"
   ]
  },
  {
   "cell_type": "code",
   "execution_count": 27,
   "id": "20dbfae3",
   "metadata": {},
   "outputs": [],
   "source": [
    "x.update(zip(['a','b'],[30,50]))"
   ]
  },
  {
   "cell_type": "code",
   "execution_count": 28,
   "id": "4867e5d0",
   "metadata": {},
   "outputs": [
    {
     "data": {
      "text/plain": [
       "{'a': 30,\n",
       " 'b': 50,\n",
       " 'c': 30,\n",
       " 'd': 40,\n",
       " 'e': 50,\n",
       " 'f': 60,\n",
       " 'g': 70,\n",
       " 1: 100,\n",
       " 2: 200,\n",
       " 3: 400,\n",
       " 5: 500,\n",
       " 6: 600}"
      ]
     },
     "execution_count": 28,
     "metadata": {},
     "output_type": "execute_result"
    }
   ],
   "source": [
    "x"
   ]
  },
  {
   "cell_type": "code",
   "execution_count": 29,
   "id": "470dddd8",
   "metadata": {},
   "outputs": [
    {
     "data": {
      "text/plain": [
       "30"
      ]
     },
     "execution_count": 29,
     "metadata": {},
     "output_type": "execute_result"
    }
   ],
   "source": [
    "x.pop('a')"
   ]
  },
  {
   "cell_type": "code",
   "execution_count": 30,
   "id": "1104f16a",
   "metadata": {},
   "outputs": [
    {
     "data": {
      "text/plain": [
       "{'b': 50,\n",
       " 'c': 30,\n",
       " 'd': 40,\n",
       " 'e': 50,\n",
       " 'f': 60,\n",
       " 'g': 70,\n",
       " 1: 100,\n",
       " 2: 200,\n",
       " 3: 400,\n",
       " 5: 500,\n",
       " 6: 600}"
      ]
     },
     "execution_count": 30,
     "metadata": {},
     "output_type": "execute_result"
    }
   ],
   "source": [
    "x"
   ]
  },
  {
   "cell_type": "code",
   "execution_count": 31,
   "id": "a8c5c4fd",
   "metadata": {},
   "outputs": [
    {
     "ename": "KeyError",
     "evalue": "'z'",
     "output_type": "error",
     "traceback": [
      "\u001b[1;31m---------------------------------------------------------------------------\u001b[0m",
      "\u001b[1;31mKeyError\u001b[0m                                  Traceback (most recent call last)",
      "\u001b[1;32m~\\AppData\\Local\\Temp/ipykernel_9440/779686491.py\u001b[0m in \u001b[0;36m<module>\u001b[1;34m\u001b[0m\n\u001b[1;32m----> 1\u001b[1;33m \u001b[0mx\u001b[0m\u001b[1;33m.\u001b[0m\u001b[0mpop\u001b[0m\u001b[1;33m(\u001b[0m\u001b[1;34m'z'\u001b[0m\u001b[1;33m)\u001b[0m\u001b[1;33m\u001b[0m\u001b[1;33m\u001b[0m\u001b[0m\n\u001b[0m",
      "\u001b[1;31mKeyError\u001b[0m: 'z'"
     ]
    }
   ],
   "source": [
    "x.pop('z')"
   ]
  },
  {
   "cell_type": "code",
   "execution_count": 32,
   "id": "46b0bcca",
   "metadata": {},
   "outputs": [
    {
     "data": {
      "text/plain": [
       "'error'"
      ]
     },
     "execution_count": 32,
     "metadata": {},
     "output_type": "execute_result"
    }
   ],
   "source": [
    "x.pop('z','error')"
   ]
  },
  {
   "cell_type": "code",
   "execution_count": 33,
   "id": "c5371d73",
   "metadata": {},
   "outputs": [
    {
     "data": {
      "text/plain": [
       "0"
      ]
     },
     "execution_count": 33,
     "metadata": {},
     "output_type": "execute_result"
    }
   ],
   "source": [
    "x.pop('z',0)"
   ]
  },
  {
   "cell_type": "code",
   "execution_count": 34,
   "id": "a9a5e693",
   "metadata": {},
   "outputs": [],
   "source": [
    "del x['b']"
   ]
  },
  {
   "cell_type": "code",
   "execution_count": 35,
   "id": "4b909a12",
   "metadata": {},
   "outputs": [
    {
     "data": {
      "text/plain": [
       "{'c': 30,\n",
       " 'd': 40,\n",
       " 'e': 50,\n",
       " 'f': 60,\n",
       " 'g': 70,\n",
       " 1: 100,\n",
       " 2: 200,\n",
       " 3: 400,\n",
       " 5: 500,\n",
       " 6: 600}"
      ]
     },
     "execution_count": 35,
     "metadata": {},
     "output_type": "execute_result"
    }
   ],
   "source": [
    "x"
   ]
  },
  {
   "cell_type": "code",
   "execution_count": 36,
   "id": "10cb52b0",
   "metadata": {},
   "outputs": [
    {
     "data": {
      "text/plain": [
       "(6, 600)"
      ]
     },
     "execution_count": 36,
     "metadata": {},
     "output_type": "execute_result"
    }
   ],
   "source": [
    "x.popitem()"
   ]
  },
  {
   "cell_type": "code",
   "execution_count": 37,
   "id": "d5c81709",
   "metadata": {},
   "outputs": [
    {
     "data": {
      "text/plain": [
       "{'c': 30, 'd': 40, 'e': 50, 'f': 60, 'g': 70, 1: 100, 2: 200, 3: 400, 5: 500}"
      ]
     },
     "execution_count": 37,
     "metadata": {},
     "output_type": "execute_result"
    }
   ],
   "source": [
    "x"
   ]
  },
  {
   "cell_type": "code",
   "execution_count": 38,
   "id": "4a675c50",
   "metadata": {},
   "outputs": [
    {
     "data": {
      "text/plain": [
       "(5, 500)"
      ]
     },
     "execution_count": 38,
     "metadata": {},
     "output_type": "execute_result"
    }
   ],
   "source": [
    "x.popitem()"
   ]
  },
  {
   "cell_type": "code",
   "execution_count": 39,
   "id": "e91d6533",
   "metadata": {},
   "outputs": [
    {
     "data": {
      "text/plain": [
       "(3, 400)"
      ]
     },
     "execution_count": 39,
     "metadata": {},
     "output_type": "execute_result"
    }
   ],
   "source": [
    "x.popitem()"
   ]
  },
  {
   "cell_type": "code",
   "execution_count": 40,
   "id": "5437513c",
   "metadata": {},
   "outputs": [
    {
     "data": {
      "text/plain": [
       "(2, 200)"
      ]
     },
     "execution_count": 40,
     "metadata": {},
     "output_type": "execute_result"
    }
   ],
   "source": [
    "x.popitem()\n"
   ]
  },
  {
   "cell_type": "code",
   "execution_count": 41,
   "id": "51667630",
   "metadata": {},
   "outputs": [
    {
     "data": {
      "text/plain": [
       "(1, 100)"
      ]
     },
     "execution_count": 41,
     "metadata": {},
     "output_type": "execute_result"
    }
   ],
   "source": [
    "x.popitem()"
   ]
  },
  {
   "cell_type": "code",
   "execution_count": 42,
   "id": "31aff7f1",
   "metadata": {},
   "outputs": [
    {
     "data": {
      "text/plain": [
       "('g', 70)"
      ]
     },
     "execution_count": 42,
     "metadata": {},
     "output_type": "execute_result"
    }
   ],
   "source": [
    "x.popitem()"
   ]
  },
  {
   "cell_type": "code",
   "execution_count": 43,
   "id": "ccac48c7",
   "metadata": {},
   "outputs": [
    {
     "data": {
      "text/plain": [
       "('f', 60)"
      ]
     },
     "execution_count": 43,
     "metadata": {},
     "output_type": "execute_result"
    }
   ],
   "source": [
    "x.popitem()"
   ]
  },
  {
   "cell_type": "code",
   "execution_count": 44,
   "id": "4cbedc48",
   "metadata": {},
   "outputs": [
    {
     "data": {
      "text/plain": [
       "('e', 50)"
      ]
     },
     "execution_count": 44,
     "metadata": {},
     "output_type": "execute_result"
    }
   ],
   "source": [
    "x.popitem()"
   ]
  },
  {
   "cell_type": "code",
   "execution_count": 45,
   "id": "5121d115",
   "metadata": {},
   "outputs": [
    {
     "data": {
      "text/plain": [
       "('d', 40)"
      ]
     },
     "execution_count": 45,
     "metadata": {},
     "output_type": "execute_result"
    }
   ],
   "source": [
    "x.popitem()"
   ]
  },
  {
   "cell_type": "code",
   "execution_count": 46,
   "id": "3ae8a161",
   "metadata": {},
   "outputs": [
    {
     "data": {
      "text/plain": [
       "('c', 30)"
      ]
     },
     "execution_count": 46,
     "metadata": {},
     "output_type": "execute_result"
    }
   ],
   "source": [
    "x.popitem()"
   ]
  },
  {
   "cell_type": "code",
   "execution_count": 49,
   "id": "6ad74f33",
   "metadata": {},
   "outputs": [
    {
     "data": {
      "text/plain": [
       "{}"
      ]
     },
     "execution_count": 49,
     "metadata": {},
     "output_type": "execute_result"
    }
   ],
   "source": [
    "x"
   ]
  },
  {
   "cell_type": "code",
   "execution_count": 50,
   "id": "428d26aa",
   "metadata": {},
   "outputs": [],
   "source": [
    "x={'a':10,'b':20,'c':30}"
   ]
  },
  {
   "cell_type": "code",
   "execution_count": 51,
   "id": "307aba81",
   "metadata": {},
   "outputs": [],
   "source": [
    "x.get('x')"
   ]
  },
  {
   "cell_type": "code",
   "execution_count": 52,
   "id": "5a1238e5",
   "metadata": {},
   "outputs": [
    {
     "data": {
      "text/plain": [
       "10"
      ]
     },
     "execution_count": 52,
     "metadata": {},
     "output_type": "execute_result"
    }
   ],
   "source": [
    "x.get('a')"
   ]
  },
  {
   "cell_type": "code",
   "execution_count": 53,
   "id": "321d4cf3",
   "metadata": {},
   "outputs": [
    {
     "data": {
      "text/plain": [
       "-1"
      ]
     },
     "execution_count": 53,
     "metadata": {},
     "output_type": "execute_result"
    }
   ],
   "source": [
    "x.get('x',-1)"
   ]
  },
  {
   "cell_type": "code",
   "execution_count": 54,
   "id": "0668e998",
   "metadata": {},
   "outputs": [
    {
     "data": {
      "text/plain": [
       "dict_items([('a', 10), ('b', 20), ('c', 30)])"
      ]
     },
     "execution_count": 54,
     "metadata": {},
     "output_type": "execute_result"
    }
   ],
   "source": [
    "x.items()"
   ]
  },
  {
   "cell_type": "code",
   "execution_count": 55,
   "id": "23a3f5de",
   "metadata": {},
   "outputs": [
    {
     "ename": "TypeError",
     "evalue": "dict.items() takes no arguments (1 given)",
     "output_type": "error",
     "traceback": [
      "\u001b[1;31m---------------------------------------------------------------------------\u001b[0m",
      "\u001b[1;31mTypeError\u001b[0m                                 Traceback (most recent call last)",
      "\u001b[1;32m~\\AppData\\Local\\Temp/ipykernel_9440/661622298.py\u001b[0m in \u001b[0;36m<module>\u001b[1;34m\u001b[0m\n\u001b[1;32m----> 1\u001b[1;33m \u001b[0mx\u001b[0m\u001b[1;33m.\u001b[0m\u001b[0mitems\u001b[0m\u001b[1;33m(\u001b[0m\u001b[1;34m'a'\u001b[0m\u001b[1;33m)\u001b[0m\u001b[1;33m\u001b[0m\u001b[1;33m\u001b[0m\u001b[0m\n\u001b[0m",
      "\u001b[1;31mTypeError\u001b[0m: dict.items() takes no arguments (1 given)"
     ]
    }
   ],
   "source": [
    "x.items('a')"
   ]
  },
  {
   "cell_type": "code",
   "execution_count": 56,
   "id": "4a5f8579",
   "metadata": {},
   "outputs": [
    {
     "data": {
      "text/plain": [
       "dict_items([('a', 10), ('b', 20), ('c', 30)])"
      ]
     },
     "execution_count": 56,
     "metadata": {},
     "output_type": "execute_result"
    }
   ],
   "source": [
    "x.items()"
   ]
  },
  {
   "cell_type": "code",
   "execution_count": 57,
   "id": "f3ce6565",
   "metadata": {},
   "outputs": [
    {
     "data": {
      "text/plain": [
       "dict_keys(['a', 'b', 'c'])"
      ]
     },
     "execution_count": 57,
     "metadata": {},
     "output_type": "execute_result"
    }
   ],
   "source": [
    "x.keys()"
   ]
  },
  {
   "cell_type": "code",
   "execution_count": 58,
   "id": "1a3057fa",
   "metadata": {},
   "outputs": [
    {
     "data": {
      "text/plain": [
       "dict_values([10, 20, 30])"
      ]
     },
     "execution_count": 58,
     "metadata": {},
     "output_type": "execute_result"
    }
   ],
   "source": [
    "x.values()"
   ]
  },
  {
   "cell_type": "code",
   "execution_count": 59,
   "id": "91a5d3d1",
   "metadata": {},
   "outputs": [],
   "source": [
    "keys=['x','y','z']"
   ]
  },
  {
   "cell_type": "code",
   "execution_count": 60,
   "id": "40860ffa",
   "metadata": {},
   "outputs": [
    {
     "data": {
      "text/plain": [
       "{'x': None, 'y': None, 'z': None}"
      ]
     },
     "execution_count": 60,
     "metadata": {},
     "output_type": "execute_result"
    }
   ],
   "source": [
    "dict.fromkeys(keys)"
   ]
  },
  {
   "cell_type": "code",
   "execution_count": 61,
   "id": "17a538bd",
   "metadata": {},
   "outputs": [
    {
     "data": {
      "text/plain": [
       "{'x': 10, 'y': 10, 'z': 10}"
      ]
     },
     "execution_count": 61,
     "metadata": {},
     "output_type": "execute_result"
    }
   ],
   "source": [
    "dict.fromkeys(keys,10)"
   ]
  },
  {
   "cell_type": "code",
   "execution_count": 62,
   "id": "2dc8555a",
   "metadata": {},
   "outputs": [
    {
     "name": "stdout",
     "output_type": "stream",
     "text": [
      "a 10\n",
      "b 20\n",
      "c 30\n"
     ]
    }
   ],
   "source": [
    "for key,value in x.items():\n",
    "    print(key,value)"
   ]
  },
  {
   "cell_type": "code",
   "execution_count": 64,
   "id": "fae5f515",
   "metadata": {},
   "outputs": [
    {
     "name": "stdout",
     "output_type": "stream",
     "text": [
      "a\n",
      "b\n",
      "c\n"
     ]
    }
   ],
   "source": [
    "for key in x.keys():\n",
    "    print(key)"
   ]
  },
  {
   "cell_type": "code",
   "execution_count": 65,
   "id": "3bd1403f",
   "metadata": {},
   "outputs": [
    {
     "name": "stdout",
     "output_type": "stream",
     "text": [
      "10\n",
      "20\n",
      "30\n"
     ]
    }
   ],
   "source": [
    "for value in x.values():\n",
    "    print(value)"
   ]
  },
  {
   "cell_type": "code",
   "execution_count": 66,
   "id": "29f93965",
   "metadata": {},
   "outputs": [],
   "source": [
    "a=dict.fromkeys(keys)"
   ]
  },
  {
   "cell_type": "code",
   "execution_count": 68,
   "id": "b21bf9c6",
   "metadata": {},
   "outputs": [
    {
     "data": {
      "text/plain": [
       "{'x': None, 'y': None, 'z': None}"
      ]
     },
     "execution_count": 68,
     "metadata": {},
     "output_type": "execute_result"
    }
   ],
   "source": [
    "a\n"
   ]
  },
  {
   "cell_type": "code",
   "execution_count": null,
   "id": "b351b7c3",
   "metadata": {},
   "outputs": [],
   "source": []
  },
  {
   "cell_type": "code",
   "execution_count": null,
   "id": "e8e0ef8b",
   "metadata": {},
   "outputs": [],
   "source": []
  }
 ],
 "metadata": {
  "kernelspec": {
   "display_name": "Python 3 (ipykernel)",
   "language": "python",
   "name": "python3"
  },
  "language_info": {
   "codemirror_mode": {
    "name": "ipython",
    "version": 3
   },
   "file_extension": ".py",
   "mimetype": "text/x-python",
   "name": "python",
   "nbconvert_exporter": "python",
   "pygments_lexer": "ipython3",
   "version": "3.9.7"
  }
 },
 "nbformat": 4,
 "nbformat_minor": 5
}
