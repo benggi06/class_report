{
 "cells": [
  {
   "cell_type": "code",
   "execution_count": 4,
   "id": "8ecac900",
   "metadata": {},
   "outputs": [],
   "source": [
    "class Person:\n",
    "    def __init__(self):\n",
    "        self.hello = '안녕하세요'\n",
    "        \n",
    "    \n",
    "    def greeting(self):\n",
    "        print(self.hello)\n",
    "        \n",
    "    \n"
   ]
  },
  {
   "cell_type": "code",
   "execution_count": 5,
   "id": "1ffb7dc6",
   "metadata": {},
   "outputs": [
    {
     "name": "stdout",
     "output_type": "stream",
     "text": [
      "안녕하세요\n"
     ]
    }
   ],
   "source": [
    "cheolsu = Person()\n",
    "\n",
    "cheolsu.greeting()"
   ]
  },
  {
   "cell_type": "code",
   "execution_count": 7,
   "id": "561d6bc3",
   "metadata": {},
   "outputs": [],
   "source": [
    "class Person:\n",
    "    def __init__(self,name,age):\n",
    "        self.hello = '안녕하세요'\n",
    "        self.name=name\n",
    "        self.age=age\n",
    "        \n",
    "    \n",
    "    def greeting(self):\n",
    "        print('{0} 저는 {1}입니다.'.format(self.hello,self.name))\n",
    "        print('나이는 {0} 입니다.'.format(self.age))"
   ]
  },
  {
   "cell_type": "code",
   "execution_count": 11,
   "id": "c2d2058f",
   "metadata": {},
   "outputs": [
    {
     "name": "stdout",
     "output_type": "stream",
     "text": [
      "안녕하세요 저는 철수입니다.\n",
      "나이는 20 입니다.\n"
     ]
    }
   ],
   "source": [
    "chul=Person('철수',20)\n",
    "chul.greeting()"
   ]
  },
  {
   "cell_type": "code",
   "execution_count": 12,
   "id": "097fd27d",
   "metadata": {},
   "outputs": [
    {
     "data": {
      "text/plain": [
       "20"
      ]
     },
     "execution_count": 12,
     "metadata": {},
     "output_type": "execute_result"
    }
   ],
   "source": [
    "chul.age"
   ]
  },
  {
   "cell_type": "code",
   "execution_count": 13,
   "id": "3a81c8aa",
   "metadata": {},
   "outputs": [
    {
     "data": {
      "text/plain": [
       "'철수'"
      ]
     },
     "execution_count": 13,
     "metadata": {},
     "output_type": "execute_result"
    }
   ],
   "source": [
    "chul.name"
   ]
  },
  {
   "cell_type": "code",
   "execution_count": 14,
   "id": "3c879ff8",
   "metadata": {},
   "outputs": [],
   "source": [
    "class Person:\n",
    "    def __init__(self,name,age,wallet):\n",
    "        self.hello = '안녕하세요'\n",
    "        self.name=name\n",
    "        self.age=age\n",
    "        self.__wallet = wallet\n",
    "        \n",
    "    \n",
    "    def greeting(self):\n",
    "        print('{0} 저는 {1}입니다.'.format(self.hello,self.name))\n",
    "        print('나이는 {0} 입니다.'.format(self.age))"
   ]
  },
  {
   "cell_type": "code",
   "execution_count": 16,
   "id": "33ddfd11",
   "metadata": {},
   "outputs": [],
   "source": [
    "maria =Person('마리아',20,10000)"
   ]
  },
  {
   "cell_type": "code",
   "execution_count": 18,
   "id": "d89ea129",
   "metadata": {},
   "outputs": [
    {
     "data": {
      "text/plain": [
       "20"
      ]
     },
     "execution_count": 18,
     "metadata": {},
     "output_type": "execute_result"
    }
   ],
   "source": [
    "maria.age"
   ]
  },
  {
   "cell_type": "code",
   "execution_count": 20,
   "id": "80a16539",
   "metadata": {},
   "outputs": [
    {
     "ename": "AttributeError",
     "evalue": "'Person' object has no attribute '__wallet'",
     "output_type": "error",
     "traceback": [
      "\u001b[1;31m---------------------------------------------------------------------------\u001b[0m",
      "\u001b[1;31mAttributeError\u001b[0m                            Traceback (most recent call last)",
      "\u001b[1;32m~\\AppData\\Local\\Temp/ipykernel_8152/481665513.py\u001b[0m in \u001b[0;36m<module>\u001b[1;34m\u001b[0m\n\u001b[1;32m----> 1\u001b[1;33m \u001b[0mmaria\u001b[0m\u001b[1;33m.\u001b[0m\u001b[0m__wallet\u001b[0m\u001b[1;33m-=\u001b[0m\u001b[1;36m5000\u001b[0m\u001b[1;33m\u001b[0m\u001b[1;33m\u001b[0m\u001b[0m\n\u001b[0m",
      "\u001b[1;31mAttributeError\u001b[0m: 'Person' object has no attribute '__wallet'"
     ]
    }
   ],
   "source": [
    "maria.__wallet-=5000"
   ]
  },
  {
   "cell_type": "code",
   "execution_count": 21,
   "id": "e2a1d257",
   "metadata": {},
   "outputs": [],
   "source": [
    "class Person:\n",
    "    def __init__(self,name,age,wallet):\n",
    "        self.hello = '안녕하세요'\n",
    "        self.name=name\n",
    "        self.age=age\n",
    "        self.__wallet = wallet\n",
    "        \n",
    "    \n",
    "    def greeting(self):\n",
    "        print('{0} 저는 {1}입니다.'.format(self.hello,self.name))\n",
    "        print('나이는 {0} 입니다.'.format(self.age))\n",
    "        \n",
    "        \n",
    "    def pay(self,amount):\n",
    "        self.__wallet-=amount\n",
    "        print('이제 {0}원 남았습니다.'.format(self.__wallet))"
   ]
  },
  {
   "cell_type": "code",
   "execution_count": 22,
   "id": "74862ef0",
   "metadata": {},
   "outputs": [],
   "source": [
    "maria=Person('마리아',20,10000)\n"
   ]
  },
  {
   "cell_type": "code",
   "execution_count": 23,
   "id": "5a7586b3",
   "metadata": {},
   "outputs": [
    {
     "name": "stdout",
     "output_type": "stream",
     "text": [
      "이제 5000원 남았습니다.\n"
     ]
    }
   ],
   "source": [
    "maria.pay(5000)"
   ]
  },
  {
   "cell_type": "code",
   "execution_count": 24,
   "id": "5a56d3ea",
   "metadata": {},
   "outputs": [
    {
     "data": {
      "text/plain": [
       "20"
      ]
     },
     "execution_count": 24,
     "metadata": {},
     "output_type": "execute_result"
    }
   ],
   "source": [
    "maria.age"
   ]
  },
  {
   "cell_type": "code",
   "execution_count": 25,
   "id": "553bbd87",
   "metadata": {},
   "outputs": [],
   "source": [
    "maria.age=30"
   ]
  },
  {
   "cell_type": "code",
   "execution_count": 26,
   "id": "a3ee428d",
   "metadata": {},
   "outputs": [
    {
     "data": {
      "text/plain": [
       "30"
      ]
     },
     "execution_count": 26,
     "metadata": {},
     "output_type": "execute_result"
    }
   ],
   "source": [
    "maria.age"
   ]
  },
  {
   "cell_type": "code",
   "execution_count": 27,
   "id": "34c29495",
   "metadata": {},
   "outputs": [
    {
     "name": "stdout",
     "output_type": "stream",
     "text": [
      "안녕하세요 저는 마리아입니다.\n",
      "나이는 30 입니다.\n"
     ]
    }
   ],
   "source": [
    "maria.greeting()"
   ]
  },
  {
   "cell_type": "code",
   "execution_count": 34,
   "id": "1bce2943",
   "metadata": {},
   "outputs": [],
   "source": [
    "class Person:\n",
    "    def __init__(self,name,age,wallet):\n",
    "        self.hello = '안녕하세요'\n",
    "        self.name=name\n",
    "        self.age=age\n",
    "        self.__wallet = wallet\n",
    "        \n",
    "    \n",
    "    def greeting(self):\n",
    "        print('{0} 저는 {1}입니다.'.format(self.hello,self.name))\n",
    "        print('나이는 {0} 입니다.'.format(self.age))\n",
    "        \n",
    "        \n",
    "    def pay(self,amount):\n",
    "        if self.__wallet >= amount:\n",
    "            self.__wallet-=amount\n",
    "            print('이제 {0}원 남았습니다.'.format(self.__wallet))\n",
    "        else:\n",
    "            print('돈이 모자랍니다.')"
   ]
  },
  {
   "cell_type": "code",
   "execution_count": 35,
   "id": "e5282759",
   "metadata": {},
   "outputs": [],
   "source": [
    "maria=Person('마리아',20,10000)"
   ]
  },
  {
   "cell_type": "code",
   "execution_count": 36,
   "id": "216e8d22",
   "metadata": {},
   "outputs": [
    {
     "name": "stdout",
     "output_type": "stream",
     "text": [
      "돈이 모자랍니다.\n"
     ]
    }
   ],
   "source": [
    "maria.pay(20000)"
   ]
  },
  {
   "cell_type": "code",
   "execution_count": 37,
   "id": "714d1dae",
   "metadata": {},
   "outputs": [],
   "source": [
    "class Person:\n",
    "    bag=[]\n",
    "    \n",
    "    def put_bag(self,stuff):\n",
    "        self.bag.append(stuff)"
   ]
  },
  {
   "cell_type": "code",
   "execution_count": 39,
   "id": "f0090697",
   "metadata": {},
   "outputs": [],
   "source": [
    "james=Person()"
   ]
  },
  {
   "cell_type": "code",
   "execution_count": 40,
   "id": "ef989b8b",
   "metadata": {},
   "outputs": [],
   "source": [
    "james.put_bag('책')"
   ]
  },
  {
   "cell_type": "code",
   "execution_count": 41,
   "id": "83fc26e3",
   "metadata": {},
   "outputs": [],
   "source": [
    "maria=Person()"
   ]
  },
  {
   "cell_type": "code",
   "execution_count": 42,
   "id": "f7adea3c",
   "metadata": {},
   "outputs": [],
   "source": [
    "maria.put_bag('열쇠')"
   ]
  },
  {
   "cell_type": "code",
   "execution_count": 43,
   "id": "b8810b73",
   "metadata": {},
   "outputs": [
    {
     "data": {
      "text/plain": [
       "['책', '열쇠']"
      ]
     },
     "execution_count": 43,
     "metadata": {},
     "output_type": "execute_result"
    }
   ],
   "source": [
    "maria.bag"
   ]
  },
  {
   "cell_type": "code",
   "execution_count": 45,
   "id": "2372d988",
   "metadata": {},
   "outputs": [],
   "source": [
    "class Person:\n",
    "    def __init__(self):\n",
    "        self.bag = []\n",
    "    \n",
    "    def put_bag(self,stuff):\n",
    "        self.bag.append(stuff)"
   ]
  },
  {
   "cell_type": "code",
   "execution_count": 46,
   "id": "7e7336a9",
   "metadata": {},
   "outputs": [],
   "source": [
    "james=Person()\n",
    "james.put_bag('책')"
   ]
  },
  {
   "cell_type": "code",
   "execution_count": 47,
   "id": "0c85b04d",
   "metadata": {},
   "outputs": [],
   "source": [
    "maria=Person()\n",
    "maria.put_bag('열쇠')"
   ]
  },
  {
   "cell_type": "code",
   "execution_count": 48,
   "id": "4e3a5b3f",
   "metadata": {},
   "outputs": [
    {
     "data": {
      "text/plain": [
       "['책']"
      ]
     },
     "execution_count": 48,
     "metadata": {},
     "output_type": "execute_result"
    }
   ],
   "source": [
    "james.bag"
   ]
  },
  {
   "cell_type": "code",
   "execution_count": 49,
   "id": "5848ac41",
   "metadata": {},
   "outputs": [
    {
     "data": {
      "text/plain": [
       "['열쇠']"
      ]
     },
     "execution_count": 49,
     "metadata": {},
     "output_type": "execute_result"
    }
   ],
   "source": [
    "maria.bag"
   ]
  },
  {
   "cell_type": "code",
   "execution_count": 51,
   "id": "24d403b0",
   "metadata": {},
   "outputs": [],
   "source": [
    "class Calc:\n",
    "    @staticmethod\n",
    "    def add(a,b):\n",
    "        print(a+b)\n",
    "    @staticmethod\n",
    "    def mul(a,b):\n",
    "        print(a*b)"
   ]
  },
  {
   "cell_type": "code",
   "execution_count": 52,
   "id": "6c53b21d",
   "metadata": {},
   "outputs": [
    {
     "name": "stdout",
     "output_type": "stream",
     "text": [
      "30\n"
     ]
    }
   ],
   "source": [
    "Calc.add(10,20)"
   ]
  },
  {
   "cell_type": "code",
   "execution_count": 53,
   "id": "5aa35003",
   "metadata": {},
   "outputs": [
    {
     "name": "stdout",
     "output_type": "stream",
     "text": [
      "30\n"
     ]
    }
   ],
   "source": [
    "calc=Calc()\n",
    "calc.add(10,20)"
   ]
  },
  {
   "cell_type": "code",
   "execution_count": 89,
   "id": "dbada24a",
   "metadata": {},
   "outputs": [],
   "source": [
    "class Person:\n",
    "    count=0\n",
    "    def __init__(self):\n",
    "        Person.count += 1\n",
    "        \n",
    "    @classmethod    \n",
    "    def print_count(cls):\n",
    "        print('{0} 명이 생성되었습니다.'.format(cls.count))\n",
    "    "
   ]
  },
  {
   "cell_type": "code",
   "execution_count": 114,
   "id": "efd37225",
   "metadata": {},
   "outputs": [],
   "source": [
    "james=Person()\n",
    "maria=Person()"
   ]
  },
  {
   "cell_type": "code",
   "execution_count": 115,
   "id": "bbfc0d86",
   "metadata": {},
   "outputs": [
    {
     "name": "stdout",
     "output_type": "stream",
     "text": [
      "18 명이 생성되었습니다.\n"
     ]
    }
   ],
   "source": [
    "Person.print_count()"
   ]
  },
  {
   "cell_type": "code",
   "execution_count": 116,
   "id": "59f2b8f4",
   "metadata": {},
   "outputs": [
    {
     "name": "stdout",
     "output_type": "stream",
     "text": [
      "18 명이 생성되었습니다.\n"
     ]
    }
   ],
   "source": [
    "james.print_count()"
   ]
  },
  {
   "cell_type": "code",
   "execution_count": null,
   "id": "68130622",
   "metadata": {},
   "outputs": [],
   "source": []
  },
  {
   "cell_type": "code",
   "execution_count": null,
   "id": "c24f1c9d",
   "metadata": {},
   "outputs": [],
   "source": []
  }
 ],
 "metadata": {
  "kernelspec": {
   "display_name": "Python 3 (ipykernel)",
   "language": "python",
   "name": "python3"
  },
  "language_info": {
   "codemirror_mode": {
    "name": "ipython",
    "version": 3
   },
   "file_extension": ".py",
   "mimetype": "text/x-python",
   "name": "python",
   "nbconvert_exporter": "python",
   "pygments_lexer": "ipython3",
   "version": "3.9.7"
  }
 },
 "nbformat": 4,
 "nbformat_minor": 5
}
