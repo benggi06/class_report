{
 "cells": [
  {
   "cell_type": "code",
   "execution_count": 3,
   "id": "c5075f0d",
   "metadata": {},
   "outputs": [
    {
     "name": "stdout",
     "output_type": "stream",
     "text": [
      "년을 입력해주세요: 100\n",
      "100년은 영년입니다,\n"
     ]
    }
   ],
   "source": [
    "year = int(input('년을 입력해주세요: '))\n",
    "\n",
    "if(year > 0):\n",
    "    if (year % 4 == 0):\n",
    "        if (year % 100 == 0):\n",
    "            print('{0}년은 영년입니다,'.format(year))\n",
    "        else:\n",
    "            print('{0}년은 윤년입니다.'.format(year))\n",
    "    else:\n",
    "        print('{0}년은 평년입니다.'.format(year))\n",
    "else:\n",
    "    print('양의 정수를 입력하세요.')\n"
   ]
  },
  {
   "cell_type": "code",
   "execution_count": null,
   "id": "471bda84",
   "metadata": {},
   "outputs": [],
   "source": []
  }
 ],
 "metadata": {
  "kernelspec": {
   "display_name": "Python 3 (ipykernel)",
   "language": "python",
   "name": "python3"
  },
  "language_info": {
   "codemirror_mode": {
    "name": "ipython",
    "version": 3
   },
   "file_extension": ".py",
   "mimetype": "text/x-python",
   "name": "python",
   "nbconvert_exporter": "python",
   "pygments_lexer": "ipython3",
   "version": "3.9.7"
  }
 },
 "nbformat": 4,
 "nbformat_minor": 5
}
