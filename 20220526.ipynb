{
 "cells": [
  {
   "cell_type": "code",
   "execution_count": 2,
   "id": "b0144583",
   "metadata": {},
   "outputs": [
    {
     "data": {
      "text/plain": [
       "'2.000000'"
      ]
     },
     "execution_count": 2,
     "metadata": {},
     "output_type": "execute_result"
    }
   ],
   "source": [
    "'%f' %2"
   ]
  },
  {
   "cell_type": "code",
   "execution_count": 4,
   "id": "f7c93ec5",
   "metadata": {},
   "outputs": [
    {
     "data": {
      "text/plain": [
       "'      2.00'"
      ]
     },
     "execution_count": 4,
     "metadata": {},
     "output_type": "execute_result"
    }
   ],
   "source": [
    "'%10.2f' %2"
   ]
  },
  {
   "cell_type": "code",
   "execution_count": 5,
   "id": "45b79b92",
   "metadata": {},
   "outputs": [
    {
     "data": {
      "text/plain": [
       "'    python'"
      ]
     },
     "execution_count": 5,
     "metadata": {},
     "output_type": "execute_result"
    }
   ],
   "source": [
    "'%10s'%'python'"
   ]
  },
  {
   "cell_type": "code",
   "execution_count": 6,
   "id": "135e38ee",
   "metadata": {},
   "outputs": [
    {
     "data": {
      "text/plain": [
       "'python    '"
      ]
     },
     "execution_count": 6,
     "metadata": {},
     "output_type": "execute_result"
    }
   ],
   "source": [
    "'%-10s'%'python'"
   ]
  },
  {
   "cell_type": "code",
   "execution_count": 7,
   "id": "56bd3abb",
   "metadata": {},
   "outputs": [
    {
     "ename": "TypeError",
     "evalue": "format requires a mapping",
     "output_type": "error",
     "traceback": [
      "\u001b[1;31m---------------------------------------------------------------------------\u001b[0m",
      "\u001b[1;31mTypeError\u001b[0m                                 Traceback (most recent call last)",
      "\u001b[1;32m~\\AppData\\Local\\Temp/ipykernel_1840/470137638.py\u001b[0m in \u001b[0;36m<module>\u001b[1;34m\u001b[0m\n\u001b[1;32m----> 1\u001b[1;33m \u001b[1;34m'%(%d)s'\u001b[0m\u001b[1;33m%\u001b[0m\u001b[1;33m(\u001b[0m\u001b[1;36m3\u001b[0m\u001b[1;33m,\u001b[0m\u001b[1;34m'python'\u001b[0m\u001b[1;33m)\u001b[0m\u001b[1;33m\u001b[0m\u001b[1;33m\u001b[0m\u001b[0m\n\u001b[0m",
      "\u001b[1;31mTypeError\u001b[0m: format requires a mapping"
     ]
    }
   ],
   "source": [
    "'%(%d)s'%(3,'python')"
   ]
  },
  {
   "cell_type": "code",
   "execution_count": 8,
   "id": "4b39d77e",
   "metadata": {},
   "outputs": [
    {
     "data": {
      "text/plain": [
       "'This is May 26'"
      ]
     },
     "execution_count": 8,
     "metadata": {},
     "output_type": "execute_result"
    }
   ],
   "source": [
    "'This is %s %d'%('May',26)"
   ]
  },
  {
   "cell_type": "code",
   "execution_count": 9,
   "id": "ae45d0df",
   "metadata": {},
   "outputs": [
    {
     "data": {
      "text/plain": [
       "'This is May 26'"
      ]
     },
     "execution_count": 9,
     "metadata": {},
     "output_type": "execute_result"
    }
   ],
   "source": [
    "'This is {0} {1}'.format('May',26)"
   ]
  },
  {
   "cell_type": "code",
   "execution_count": 11,
   "id": "6863a2a0",
   "metadata": {},
   "outputs": [
    {
     "data": {
      "text/plain": [
       "'This is May 26 or 26 May'"
      ]
     },
     "execution_count": 11,
     "metadata": {},
     "output_type": "execute_result"
    }
   ],
   "source": [
    "'This is {0} {1} or {1} {0}'.format('May',26)"
   ]
  },
  {
   "cell_type": "code",
   "execution_count": 12,
   "id": "961b04b4",
   "metadata": {},
   "outputs": [
    {
     "data": {
      "text/plain": [
       "'This is May 26'"
      ]
     },
     "execution_count": 12,
     "metadata": {},
     "output_type": "execute_result"
    }
   ],
   "source": [
    "'This is {Month} {day}'.format(Month='May',day=26)"
   ]
  },
  {
   "cell_type": "code",
   "execution_count": 13,
   "id": "73ead393",
   "metadata": {},
   "outputs": [
    {
     "data": {
      "text/plain": [
       "'This is May 26'"
      ]
     },
     "execution_count": 13,
     "metadata": {},
     "output_type": "execute_result"
    }
   ],
   "source": [
    "Month ='May'\n",
    "day=26\n",
    "f'This is {Month} {day}'"
   ]
  },
  {
   "cell_type": "code",
   "execution_count": 14,
   "id": "6e5d5f55",
   "metadata": {},
   "outputs": [
    {
     "data": {
      "text/plain": [
       "'may           26'"
      ]
     },
     "execution_count": 14,
     "metadata": {},
     "output_type": "execute_result"
    }
   ],
   "source": [
    "'{0:<10} {1:>5}'.format('may',26)"
   ]
  },
  {
   "cell_type": "code",
   "execution_count": 21,
   "id": "2476a880",
   "metadata": {},
   "outputs": [
    {
     "data": {
      "text/plain": [
       "'This is may        00026'"
      ]
     },
     "execution_count": 21,
     "metadata": {},
     "output_type": "execute_result"
    }
   ],
   "source": [
    "'This is {0:<10} {1:>05}'.format('may',26)"
   ]
  },
  {
   "cell_type": "code",
   "execution_count": 27,
   "id": "07b94c6a",
   "metadata": {},
   "outputs": [
    {
     "data": {
      "text/plain": [
       "'pi is 0003.14000'"
      ]
     },
     "execution_count": 27,
     "metadata": {},
     "output_type": "execute_result"
    }
   ],
   "source": [
    "'pi is {0:010.5f}'.format(3.14)"
   ]
  },
  {
   "cell_type": "code",
   "execution_count": 28,
   "id": "66a2db6c",
   "metadata": {},
   "outputs": [
    {
     "ename": "ValueError",
     "evalue": "Invalid format specifier",
     "output_type": "error",
     "traceback": [
      "\u001b[1;31m---------------------------------------------------------------------------\u001b[0m",
      "\u001b[1;31mValueError\u001b[0m                                Traceback (most recent call last)",
      "\u001b[1;32m~\\AppData\\Local\\Temp/ipykernel_1840/3575459369.py\u001b[0m in \u001b[0;36m<module>\u001b[1;34m\u001b[0m\n\u001b[1;32m----> 1\u001b[1;33m \u001b[1;34m'This is {0:x<10} {1:>x05}'\u001b[0m\u001b[1;33m.\u001b[0m\u001b[0mformat\u001b[0m\u001b[1;33m(\u001b[0m\u001b[1;34m'may'\u001b[0m\u001b[1;33m,\u001b[0m\u001b[1;36m26\u001b[0m\u001b[1;33m)\u001b[0m\u001b[1;33m\u001b[0m\u001b[1;33m\u001b[0m\u001b[0m\n\u001b[0m",
      "\u001b[1;31mValueError\u001b[0m: Invalid format specifier"
     ]
    }
   ],
   "source": [
    "'This is {0:x<10} {1:>x05}'.format('may',26)"
   ]
  },
  {
   "cell_type": "code",
   "execution_count": null,
   "id": "1f7787a8",
   "metadata": {},
   "outputs": [],
   "source": []
  }
 ],
 "metadata": {
  "kernelspec": {
   "display_name": "Python 3 (ipykernel)",
   "language": "python",
   "name": "python3"
  },
  "language_info": {
   "codemirror_mode": {
    "name": "ipython",
    "version": 3
   },
   "file_extension": ".py",
   "mimetype": "text/x-python",
   "name": "python",
   "nbconvert_exporter": "python",
   "pygments_lexer": "ipython3",
   "version": "3.9.7"
  }
 },
 "nbformat": 4,
 "nbformat_minor": 5
}
