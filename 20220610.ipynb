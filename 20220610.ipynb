{
 "cells": [
  {
   "cell_type": "code",
   "execution_count": 6,
   "id": "5facbc5c",
   "metadata": {},
   "outputs": [],
   "source": [
    "class Person:\n",
    "    def __init__(self,name,age,wallet):\n",
    "        self.name=name\n",
    "        self.age=age\n",
    "        self.__wallet=wallet\n",
    "    def greeting(self):\n",
    "        print(self.name,self.age,self.__wallet)\n",
    "    def pay(self,amount):\n",
    "        self.__wallet=self.__wallet - amount\n",
    "        print(self.__wallet)\n",
    "james=Person('제임스',20,10000)\n",
    "        \n",
    "    "
   ]
  },
  {
   "cell_type": "code",
   "execution_count": 13,
   "id": "32f36e03",
   "metadata": {},
   "outputs": [
    {
     "name": "stdout",
     "output_type": "stream",
     "text": [
      "-2000\n"
     ]
    }
   ],
   "source": [
    "james.pay(3000)"
   ]
  },
  {
   "cell_type": "code",
   "execution_count": 14,
   "id": "1c99307f",
   "metadata": {},
   "outputs": [
    {
     "name": "stdout",
     "output_type": "stream",
     "text": [
      "제임스 20 -2000\n"
     ]
    }
   ],
   "source": [
    "james.greeting()"
   ]
  },
  {
   "cell_type": "code",
   "execution_count": 15,
   "id": "d413f054",
   "metadata": {},
   "outputs": [],
   "source": [
    "class Person:\n",
    "    def greeting(self):\n",
    "        print('Hi')\n",
    "class PersonList:\n",
    "    def __init__(self):\n",
    "        self.person_list=[]\n",
    "        \n",
    "    def append_person(self,person):\n",
    "        self.person_list.append(person)"
   ]
  },
  {
   "cell_type": "code",
   "execution_count": 16,
   "id": "397544bf",
   "metadata": {},
   "outputs": [],
   "source": [
    "james=Person()"
   ]
  },
  {
   "cell_type": "code",
   "execution_count": 17,
   "id": "396d8779",
   "metadata": {},
   "outputs": [],
   "source": [
    "plist=PersonList()"
   ]
  },
  {
   "cell_type": "code",
   "execution_count": 19,
   "id": "83495352",
   "metadata": {},
   "outputs": [],
   "source": [
    "plist.append_person('james')"
   ]
  },
  {
   "cell_type": "code",
   "execution_count": 20,
   "id": "8ba59d66",
   "metadata": {},
   "outputs": [
    {
     "data": {
      "text/plain": [
       "[<__main__.Person at 0x212694b7280>, 'james']"
      ]
     },
     "execution_count": 20,
     "metadata": {},
     "output_type": "execute_result"
    }
   ],
   "source": [
    "plist.person_list"
   ]
  },
  {
   "cell_type": "code",
   "execution_count": 22,
   "id": "17058da1",
   "metadata": {},
   "outputs": [],
   "source": [
    "class Person:\n",
    "    def __init__(self):\n",
    "        print('Person init')\n",
    "        self.hello='하이'\n",
    "    "
   ]
  },
  {
   "cell_type": "code",
   "execution_count": 23,
   "id": "7d185186",
   "metadata": {},
   "outputs": [],
   "source": [
    "class Student(Person):\n",
    "    def __init__(self):\n",
    "        print('Student __init__')\n",
    "        super().__init__()\n",
    "        self.school = '금공'"
   ]
  },
  {
   "cell_type": "code",
   "execution_count": 24,
   "id": "6ca7943a",
   "metadata": {},
   "outputs": [
    {
     "name": "stdout",
     "output_type": "stream",
     "text": [
      "Student __init__\n",
      "Person init\n"
     ]
    }
   ],
   "source": [
    "james= Student()"
   ]
  },
  {
   "cell_type": "code",
   "execution_count": 25,
   "id": "1e99c884",
   "metadata": {},
   "outputs": [
    {
     "data": {
      "text/plain": [
       "'하이'"
      ]
     },
     "execution_count": 25,
     "metadata": {},
     "output_type": "execute_result"
    }
   ],
   "source": [
    "james.hello"
   ]
  },
  {
   "cell_type": "code",
   "execution_count": 26,
   "id": "20b6b3dd",
   "metadata": {},
   "outputs": [
    {
     "data": {
      "text/plain": [
       "'금공'"
      ]
     },
     "execution_count": 26,
     "metadata": {},
     "output_type": "execute_result"
    }
   ],
   "source": [
    "james.school"
   ]
  },
  {
   "cell_type": "code",
   "execution_count": null,
   "id": "c0900129",
   "metadata": {},
   "outputs": [],
   "source": []
  }
 ],
 "metadata": {
  "kernelspec": {
   "display_name": "Python 3 (ipykernel)",
   "language": "python",
   "name": "python3"
  },
  "language_info": {
   "codemirror_mode": {
    "name": "ipython",
    "version": 3
   },
   "file_extension": ".py",
   "mimetype": "text/x-python",
   "name": "python",
   "nbconvert_exporter": "python",
   "pygments_lexer": "ipython3",
   "version": "3.9.7"
  }
 },
 "nbformat": 4,
 "nbformat_minor": 5
}
