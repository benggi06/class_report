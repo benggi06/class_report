{
 "cells": [
  {
   "cell_type": "code",
   "execution_count": 1,
   "id": "61cea8cd",
   "metadata": {},
   "outputs": [],
   "source": [
    "def personal_info(name,age):\n",
    "    print('이름:',name)\n",
    "    print('나이:',age)"
   ]
  },
  {
   "cell_type": "code",
   "execution_count": 2,
   "id": "679c022b",
   "metadata": {},
   "outputs": [],
   "source": [
    "x={'name':'김기숙','age':51}"
   ]
  },
  {
   "cell_type": "code",
   "execution_count": 3,
   "id": "2055efa4",
   "metadata": {},
   "outputs": [
    {
     "name": "stdout",
     "output_type": "stream",
     "text": [
      "이름: name\n",
      "나이: age\n"
     ]
    }
   ],
   "source": [
    "personal_info(*x)"
   ]
  },
  {
   "cell_type": "code",
   "execution_count": 4,
   "id": "03c9be48",
   "metadata": {},
   "outputs": [
    {
     "name": "stdout",
     "output_type": "stream",
     "text": [
      "이름: 김기숙\n",
      "나이: 51\n"
     ]
    }
   ],
   "source": [
    "personal_info(**x)"
   ]
  },
  {
   "cell_type": "code",
   "execution_count": 5,
   "id": "e9e61109",
   "metadata": {},
   "outputs": [],
   "source": [
    "y={'age':51,'name':'김기숙'}"
   ]
  },
  {
   "cell_type": "code",
   "execution_count": 6,
   "id": "1ae49d56",
   "metadata": {},
   "outputs": [
    {
     "name": "stdout",
     "output_type": "stream",
     "text": [
      "이름: 김기숙\n",
      "나이: 51\n"
     ]
    }
   ],
   "source": [
    "personal_info(**y)"
   ]
  },
  {
   "cell_type": "code",
   "execution_count": 19,
   "id": "4d1fa64b",
   "metadata": {},
   "outputs": [],
   "source": [
    "def personal_info(**kwargs):\n",
    "    for kw ,args in kwargs.items():\n",
    "        print(type(kwargs.items()))\n",
    "        print(kw,':',args, end='')\n",
    "        print()"
   ]
  },
  {
   "cell_type": "code",
   "execution_count": 20,
   "id": "b9ad3010",
   "metadata": {},
   "outputs": [
    {
     "name": "stdout",
     "output_type": "stream",
     "text": [
      "<class 'dict_items'>\n",
      "name : 김기숙\n",
      "<class 'dict_items'>\n",
      "age : 51\n"
     ]
    }
   ],
   "source": [
    "personal_info(name='김기숙',age=51)"
   ]
  },
  {
   "cell_type": "code",
   "execution_count": 18,
   "id": "f09d618e",
   "metadata": {},
   "outputs": [
    {
     "name": "stdout",
     "output_type": "stream",
     "text": [
      "name : 김기숙\n",
      "age : 51\n"
     ]
    }
   ],
   "source": [
    "personal_info(**x)"
   ]
  },
  {
   "cell_type": "code",
   "execution_count": 21,
   "id": "04d335b9",
   "metadata": {},
   "outputs": [],
   "source": [
    "def personal_info(**kwargs):\n",
    "    if 'name' in kwargs:\n",
    "        print('이름:',kwargs['name'])\n",
    "    if 'age' in kwargs:\n",
    "        print('나이:',kwargs['age'])\n",
    "    "
   ]
  },
  {
   "cell_type": "code",
   "execution_count": 22,
   "id": "06b028a4",
   "metadata": {},
   "outputs": [
    {
     "name": "stdout",
     "output_type": "stream",
     "text": [
      "이름: 김기숙\n",
      "나이: 51\n"
     ]
    }
   ],
   "source": [
    "personal_info(**x)"
   ]
  },
  {
   "cell_type": "code",
   "execution_count": 23,
   "id": "51ae0561",
   "metadata": {},
   "outputs": [],
   "source": [
    "def personal_info(name,age,address='-',gender='한남'):\n",
    "    print(name,age,address,gender)"
   ]
  },
  {
   "cell_type": "code",
   "execution_count": 24,
   "id": "03ee2231",
   "metadata": {},
   "outputs": [
    {
     "name": "stdout",
     "output_type": "stream",
     "text": [
      "김기숙 51 - 한남\n"
     ]
    }
   ],
   "source": [
    "personal_info(name='김기숙',age=51)"
   ]
  },
  {
   "cell_type": "code",
   "execution_count": 27,
   "id": "ee303098",
   "metadata": {},
   "outputs": [],
   "source": [
    "def hello():\n",
    "    print('Hello')\n",
    "    hello()"
   ]
  },
  {
   "cell_type": "code",
   "execution_count": 9,
   "id": "98d1f194",
   "metadata": {},
   "outputs": [],
   "source": [
    "def hello(count):\n",
    "    if count == 0:\n",
    "        return\n",
    "    \n",
    "    print('hello {0}'.format(count))\n",
    "    count-=1\n",
    "    hello(count)"
   ]
  },
  {
   "cell_type": "code",
   "execution_count": 10,
   "id": "d838995e",
   "metadata": {},
   "outputs": [
    {
     "name": "stdout",
     "output_type": "stream",
     "text": [
      "hello 5\n",
      "hello 4\n",
      "hello 3\n",
      "hello 2\n",
      "hello 1\n"
     ]
    }
   ],
   "source": [
    "hello(5)"
   ]
  },
  {
   "cell_type": "code",
   "execution_count": null,
   "id": "6a960214",
   "metadata": {},
   "outputs": [],
   "source": []
  }
 ],
 "metadata": {
  "kernelspec": {
   "display_name": "Python 3 (ipykernel)",
   "language": "python",
   "name": "python3"
  },
  "language_info": {
   "codemirror_mode": {
    "name": "ipython",
    "version": 3
   },
   "file_extension": ".py",
   "mimetype": "text/x-python",
   "name": "python",
   "nbconvert_exporter": "python",
   "pygments_lexer": "ipython3",
   "version": "3.9.7"
  }
 },
 "nbformat": 4,
 "nbformat_minor": 5
}
