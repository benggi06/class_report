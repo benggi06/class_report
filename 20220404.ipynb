{
 "cells": [
  {
   "cell_type": "code",
   "execution_count": 11,
   "id": "3fa9fae3",
   "metadata": {},
   "outputs": [
    {
     "data": {
      "text/plain": [
       "{'a': 10, 'b': 20, 'c': 30, 'd': 40}"
      ]
     },
     "execution_count": 11,
     "metadata": {},
     "output_type": "execute_result"
    }
   ],
   "source": [
    "a={'a':10,'b':20,'c':30,'d':40}\n",
    "a"
   ]
  },
  {
   "cell_type": "code",
   "execution_count": 15,
   "id": "8b549567",
   "metadata": {},
   "outputs": [
    {
     "data": {
      "text/plain": [
       "{'홍길동': {'age': 20, 'gender': 'male'}, '암우개': {'age': 20, 'gender': 'female'}}"
      ]
     },
     "execution_count": 15,
     "metadata": {},
     "output_type": "execute_result"
    }
   ],
   "source": [
    "students={'홍길동':{'age':20,'gender':'male'},'암우개':{'age':20,'gender':'female'}}\n",
    "students"
   ]
  },
  {
   "cell_type": "code",
   "execution_count": 16,
   "id": "71be7376",
   "metadata": {},
   "outputs": [],
   "source": [
    "x={}"
   ]
  },
  {
   "cell_type": "code",
   "execution_count": 17,
   "id": "bb76f86a",
   "metadata": {},
   "outputs": [
    {
     "data": {
      "text/plain": [
       "{}"
      ]
     },
     "execution_count": 17,
     "metadata": {},
     "output_type": "execute_result"
    }
   ],
   "source": [
    "x"
   ]
  },
  {
   "cell_type": "code",
   "execution_count": 18,
   "id": "e48a365f",
   "metadata": {},
   "outputs": [],
   "source": [
    "y=dict()"
   ]
  },
  {
   "cell_type": "code",
   "execution_count": 19,
   "id": "713feced",
   "metadata": {},
   "outputs": [
    {
     "data": {
      "text/plain": [
       "{}"
      ]
     },
     "execution_count": 19,
     "metadata": {},
     "output_type": "execute_result"
    }
   ],
   "source": [
    "y"
   ]
  },
  {
   "cell_type": "code",
   "execution_count": 21,
   "id": "de303877",
   "metadata": {},
   "outputs": [
    {
     "ename": "SyntaxError",
     "evalue": "expression cannot contain assignment, perhaps you meant \"==\"? (Temp/ipykernel_24084/2730230493.py, line 1)",
     "output_type": "error",
     "traceback": [
      "\u001b[1;36m  File \u001b[1;32m\"C:\\Users\\LG435\\AppData\\Local\\Temp/ipykernel_24084/2730230493.py\"\u001b[1;36m, line \u001b[1;32m1\u001b[0m\n\u001b[1;33m    a=dict(이름='홍준표',\"나이\"=56)\u001b[0m\n\u001b[1;37m                    ^\u001b[0m\n\u001b[1;31mSyntaxError\u001b[0m\u001b[1;31m:\u001b[0m expression cannot contain assignment, perhaps you meant \"==\"?\n"
     ]
    }
   ],
   "source": [
    "a=dict(이름='홍',나이=56)\n",
    "a"
   ]
  },
  {
   "cell_type": "code",
   "execution_count": 22,
   "id": "dec97e00",
   "metadata": {},
   "outputs": [],
   "source": [
    "lux=dict(zip(['key1','key2','key3','key4'],[1,2,3,4]))"
   ]
  },
  {
   "cell_type": "code",
   "execution_count": 23,
   "id": "6795a31e",
   "metadata": {},
   "outputs": [
    {
     "data": {
      "text/plain": [
       "{'key1': 1, 'key2': 2, 'key3': 3, 'key4': 4}"
      ]
     },
     "execution_count": 23,
     "metadata": {},
     "output_type": "execute_result"
    }
   ],
   "source": [
    "lux\n"
   ]
  },
  {
   "cell_type": "code",
   "execution_count": 24,
   "id": "d04b0a86",
   "metadata": {},
   "outputs": [
    {
     "ename": "NameError",
     "evalue": "name 'key1' is not defined",
     "output_type": "error",
     "traceback": [
      "\u001b[1;31m---------------------------------------------------------------------------\u001b[0m",
      "\u001b[1;31mNameError\u001b[0m                                 Traceback (most recent call last)",
      "\u001b[1;32m~\\AppData\\Local\\Temp/ipykernel_24084/173456749.py\u001b[0m in \u001b[0;36m<module>\u001b[1;34m\u001b[0m\n\u001b[1;32m----> 1\u001b[1;33m \u001b[0mlux\u001b[0m\u001b[1;33m[\u001b[0m\u001b[0mkey1\u001b[0m\u001b[1;33m]\u001b[0m\u001b[1;33m\u001b[0m\u001b[1;33m\u001b[0m\u001b[0m\n\u001b[0m",
      "\u001b[1;31mNameError\u001b[0m: name 'key1' is not defined"
     ]
    }
   ],
   "source": [
    "lux[key1]"
   ]
  },
  {
   "cell_type": "code",
   "execution_count": 26,
   "id": "1726b18d",
   "metadata": {},
   "outputs": [],
   "source": [
    "lux['key1']=5"
   ]
  },
  {
   "cell_type": "code",
   "execution_count": 27,
   "id": "92d74639",
   "metadata": {},
   "outputs": [
    {
     "data": {
      "text/plain": [
       "{'key1': 5, 'key2': 2, 'key3': 3, 'key4': 4}"
      ]
     },
     "execution_count": 27,
     "metadata": {},
     "output_type": "execute_result"
    }
   ],
   "source": [
    "lux"
   ]
  },
  {
   "cell_type": "code",
   "execution_count": 28,
   "id": "3977de15",
   "metadata": {},
   "outputs": [
    {
     "data": {
      "text/plain": [
       "False"
      ]
     },
     "execution_count": 28,
     "metadata": {},
     "output_type": "execute_result"
    }
   ],
   "source": [
    "5 in lux"
   ]
  },
  {
   "cell_type": "code",
   "execution_count": 38,
   "id": "b486ccb5",
   "metadata": {},
   "outputs": [
    {
     "data": {
      "text/plain": [
       "[[1, 2, 3, 4], [5, 6, 7, 8]]"
      ]
     },
     "execution_count": 38,
     "metadata": {},
     "output_type": "execute_result"
    }
   ],
   "source": [
    "mat=[[1,2,3,4],[5,6,7,8]]\n",
    "mat"
   ]
  },
  {
   "cell_type": "code",
   "execution_count": 39,
   "id": "fb2b248e",
   "metadata": {},
   "outputs": [
    {
     "data": {
      "text/plain": [
       "2"
      ]
     },
     "execution_count": 39,
     "metadata": {},
     "output_type": "execute_result"
    }
   ],
   "source": [
    "mat[0][1]"
   ]
  },
  {
   "cell_type": "code",
   "execution_count": 40,
   "id": "e11b5e37",
   "metadata": {},
   "outputs": [
    {
     "data": {
      "text/plain": [
       "2"
      ]
     },
     "execution_count": 40,
     "metadata": {},
     "output_type": "execute_result"
    }
   ],
   "source": [
    "mat[0][1]"
   ]
  },
  {
   "cell_type": "code",
   "execution_count": 41,
   "id": "864ea8b2",
   "metadata": {},
   "outputs": [
    {
     "data": {
      "text/plain": [
       "{'홍길동': {'age': 20, 'gender': 'male'}, '암우개': {'age': 20, 'gender': 'female'}}"
      ]
     },
     "execution_count": 41,
     "metadata": {},
     "output_type": "execute_result"
    }
   ],
   "source": [
    "students"
   ]
  },
  {
   "cell_type": "code",
   "execution_count": 42,
   "id": "b797402c",
   "metadata": {},
   "outputs": [
    {
     "data": {
      "text/plain": [
       "20"
      ]
     },
     "execution_count": 42,
     "metadata": {},
     "output_type": "execute_result"
    }
   ],
   "source": [
    "students['홍길동']['age']"
   ]
  },
  {
   "cell_type": "code",
   "execution_count": 43,
   "id": "696cdda8",
   "metadata": {},
   "outputs": [
    {
     "name": "stdout",
     "output_type": "stream",
     "text": [
      "홍길동의 나이는 20 입니다\n"
     ]
    }
   ],
   "source": [
    "if students['홍길동']['age'] == 20:\n",
    "    print('홍길동의 나이는 20 입니다')\n",
    "else:\n",
    "    print('잘좀쳐라')"
   ]
  },
  {
   "cell_type": "code",
   "execution_count": null,
   "id": "8f58fdd3",
   "metadata": {},
   "outputs": [],
   "source": []
  }
 ],
 "metadata": {
  "kernelspec": {
   "display_name": "Python 3 (ipykernel)",
   "language": "python",
   "name": "python3"
  },
  "language_info": {
   "codemirror_mode": {
    "name": "ipython",
    "version": 3
   },
   "file_extension": ".py",
   "mimetype": "text/x-python",
   "name": "python",
   "nbconvert_exporter": "python",
   "pygments_lexer": "ipython3",
   "version": "3.9.7"
  }
 },
 "nbformat": 4,
 "nbformat_minor": 5
}
