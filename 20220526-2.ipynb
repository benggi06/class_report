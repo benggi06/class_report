{
 "cells": [
  {
   "cell_type": "code",
   "execution_count": 3,
   "id": "872e592b",
   "metadata": {},
   "outputs": [
    {
     "name": "stdout",
     "output_type": "stream",
     "text": [
      "지옥으로"
     ]
    }
   ],
   "source": [
    "def Hello():\n",
    "    print('지옥으로',end='')\n",
    "Hello()"
   ]
  },
  {
   "cell_type": "code",
   "execution_count": 5,
   "id": "e4b8c761",
   "metadata": {},
   "outputs": [
    {
     "name": "stdout",
     "output_type": "stream",
     "text": [
      "지옥으로지옥으로지옥으로지옥으로지옥으로지옥으로지옥으로지옥으로지옥으로지옥으로지옥으로지옥으로지옥으로지옥으로지옥으로지옥으로지옥으로지옥으로지옥으로지옥으로지옥으로지옥으로지옥으로지옥으로지옥으로지옥으로지옥으로지옥으로지옥으로지옥으로지옥으로지옥으로지옥으로지옥으로지옥으로지옥으로지옥으로지옥으로지옥으로지옥으로지옥으로지옥으로지옥으로지옥으로지옥으로지옥으로지옥으로지옥으로지옥으로지옥으로지옥으로지옥으로지옥으로지옥으로지옥으로지옥으로지옥으로지옥으로지옥으로지옥으로지옥으로지옥으로지옥으로지옥으로지옥으로지옥으로지옥으로지옥으로지옥으로지옥으로지옥으로지옥으로지옥으로지옥으로지옥으로지옥으로지옥으로지옥으로지옥으로지옥으로지옥으로지옥으로지옥으로지옥으로지옥으로지옥으로지옥으로지옥으로지옥으로지옥으로지옥으로지옥으로지옥으로지옥으로지옥으로지옥으로지옥으로지옥으로지옥으로지옥으로지옥으로지옥으로지옥으로지옥으로지옥으로지옥으로지옥으로지옥으로지옥으로지옥으로지옥으로지옥으로지옥으로지옥으로지옥으로지옥으로지옥으로지옥으로지옥으로지옥으로지옥으로지옥으로지옥으로지옥으로지옥으로지옥으로지옥으로지옥으로지옥으로지옥으로지옥으로지옥으로지옥으로지옥으로지옥으로지옥으로지옥으로지옥으로지옥으로지옥으로지옥으로지옥으로지옥으로지옥으로지옥으로지옥으로지옥으로지옥으로지옥으로지옥으로지옥으로지옥으로지옥으로지옥으로지옥으로지옥으로지옥으로지옥으로지옥으로지옥으로지옥으로지옥으로지옥으로지옥으로지옥으로지옥으로지옥으로지옥으로지옥으로지옥으로지옥으로지옥으로지옥으로지옥으로지옥으로지옥으로지옥으로지옥으로지옥으로지옥으로지옥으로지옥으로지옥으로지옥으로지옥으로지옥으로지옥으로지옥으로지옥으로지옥으로지옥으로지옥으로지옥으로지옥으로지옥으로지옥으로지옥으로지옥으로지옥으로지옥으로지옥으로지옥으로지옥으로지옥으로지옥으로지옥으로지옥으로지옥으로지옥으로지옥으로지옥으로지옥으로지옥으로지옥으로지옥으로지옥으로지옥으로지옥으로지옥으로지옥으로지옥으로지옥으로지옥으로지옥으로지옥으로지옥으로지옥으로지옥으로지옥으로지옥으로지옥으로지옥으로지옥으로지옥으로지옥으로지옥으로지옥으로지옥으로지옥으로지옥으로지옥으로지옥으로지옥으로지옥으로지옥으로지옥으로지옥으로지옥으로지옥으로지옥으로지옥으로지옥으로지옥으로지옥으로지옥으로지옥으로지옥으로지옥으로지옥으로지옥으로지옥으로지옥으로지옥으로지옥으로지옥으로지옥으로지옥으로지옥으로지옥으로지옥으로지옥으로지옥으로지옥으로지옥으로지옥으로지옥으로지옥으로지옥으로지옥으로지옥으로지옥으로지옥으로지옥으로지옥으로지옥으로지옥으로지옥으로지옥으로지옥으로지옥으로지옥으로지옥으로지옥으로지옥으로지옥으로지옥으로지옥으로지옥으로지옥으로지옥으로지옥으로지옥으로지옥으로지옥으로지옥으로지옥으로지옥으로지옥으로지옥으로지옥으로지옥으로지옥으로지옥으로지옥으로지옥으로지옥으로지옥으로지옥으로지옥으로지옥으로지옥으로지옥으로지옥으로지옥으로지옥으로지옥으로지옥으로지옥으로지옥으로지옥으로지옥으로지옥으로지옥으로지옥으로지옥으로지옥으로지옥으로지옥으로지옥으로지옥으로지옥으로지옥으로지옥으로지옥으로지옥으로지옥으로지옥으로지옥으로지옥으로지옥으로지옥으로지옥으로지옥으로지옥으로지옥으로지옥으로지옥으로지옥으로지옥으로지옥으로지옥으로지옥으로지옥으로지옥으로지옥으로지옥으로지옥으로지옥으로지옥으로지옥으로지옥으로지옥으로지옥으로지옥으로지옥으로지옥으로지옥으로지옥으로지옥으로지옥으로지옥으로지옥으로지옥으로지옥으로지옥으로지옥으로지옥으로지옥으로지옥으로지옥으로지옥으로지옥으로지옥으로지옥으로지옥으로지옥으로지옥으로지옥으로지옥으로지옥으로지옥으로지옥으로지옥으로지옥으로지옥으로지옥으로지옥으로지옥으로지옥으로지옥으로지옥으로지옥으로지옥으로지옥으로지옥으로지옥으로지옥으로지옥으로지옥으로지옥으로지옥으로지옥으로지옥으로지옥으로지옥으로지옥으로지옥으로지옥으로지옥으로지옥으로지옥으로지옥으로지옥으로지옥으로지옥으로지옥으로지옥으로지옥으로지옥으로지옥으로지옥으로지옥으로지옥으로지옥으로지옥으로지옥으로지옥으로지옥으로지옥으로지옥으로지옥으로지옥으로지옥으로지옥으로지옥으로지옥으로지옥으로지옥으로지옥으로지옥으로지옥으로지옥으로지옥으로지옥으로지옥으로지옥으로지옥으로지옥으로지옥으로지옥으로지옥으로지옥으로지옥으로지옥으로지옥으로지옥으로지옥으로지옥으로지옥으로지옥으로지옥으로지옥으로지옥으로지옥으로지옥으로지옥으로지옥으로지옥으로지옥으로지옥으로지옥으로지옥으로지옥으로지옥으로지옥으로지옥으로지옥으로지옥으로지옥으로지옥으로지옥으로지옥으로지옥으로지옥으로지옥으로지옥으로지옥으로지옥으로지옥으로지옥으로지옥으로지옥으로지옥으로지옥으로지옥으로지옥으로지옥으로지옥으로지옥으로지옥으로지옥으로지옥으로지옥으로지옥으로지옥으로지옥으로지옥으로지옥으로지옥으로지옥으로지옥으로지옥으로지옥으로지옥으로지옥으로지옥으로지옥으로지옥으로지옥으로지옥으로지옥으로지옥으로지옥으로지옥으로지옥으로지옥으로지옥으로지옥으로지옥으로지옥으로지옥으로지옥으로지옥으로지옥으로지옥으로지옥으로지옥으로지옥으로지옥으로지옥으로지옥으로지옥으로지옥으로지옥으로지옥으로지옥으로지옥으로지옥으로지옥으로지옥으로지옥으로지옥으로지옥으로지옥으로지옥으로지옥으로지옥으로지옥으로지옥으로지옥으로지옥으로지옥으로지옥으로지옥으로지옥으로지옥으로지옥으로지옥으로지옥으로지옥으로지옥으로지옥으로지옥으로지옥으로지옥으로지옥으로지옥으로지옥으로지옥으로지옥으로지옥으로지옥으로지옥으로지옥으로지옥으로지옥으로지옥으로지옥으로지옥으로지옥으로지옥으로지옥으로지옥으로지옥으로지옥으로지옥으로지옥으로지옥으로지옥으로지옥으로지옥으로지옥으로지옥으로지옥으로지옥으로지옥으로지옥으로지옥으로지옥으로지옥으로지옥으로지옥으로지옥으로지옥으로지옥으로지옥으로지옥으로지옥으로지옥으로지옥으로지옥으로지옥으로지옥으로지옥으로지옥으로지옥으로지옥으로지옥으로지옥으로지옥으로지옥으로지옥으로지옥으로지옥으로지옥으로지옥으로지옥으로지옥으로지옥으로지옥으로지옥으로지옥으로지옥으로지옥으로지옥으로지옥으로지옥으로지옥으로지옥으로지옥으로지옥으로지옥으로지옥으로지옥으로지옥으로지옥으로지옥으로지옥으로지옥으로지옥으로지옥으로지옥으로지옥으로지옥으로지옥으로지옥으로지옥으로지옥으로지옥으로지옥으로지옥으로지옥으로지옥으로지옥으로지옥으로지옥으로지옥으로지옥으로지옥으로지옥으로지옥으로지옥으로지옥으로지옥으로지옥으로지옥으로지옥으로지옥으로지옥으로지옥으로지옥으로지옥으로지옥으로지옥으로지옥으로지옥으로지옥으로지옥으로지옥으로지옥으로지옥으로지옥으로지옥으로지옥으로지옥으로지옥으로지옥으로지옥으로지옥으로지옥으로지옥으로지옥으로지옥으로지옥으로지옥으로지옥으로지옥으로지옥으로지옥으로지옥으로지옥으로지옥으로지옥으로지옥으로지옥으로지옥으로지옥으로지옥으로지옥으로지옥으로지옥으로지옥으로지옥으로지옥으로지옥으로지옥으로지옥으로지옥으로지옥으로지옥으로지옥으로지옥으로지옥으로지옥으로지옥으로지옥으로지옥으로지옥으로지옥으로지옥으로지옥으로지옥으로지옥으로지옥으로지옥으로지옥으로지옥으로지옥으로지옥으로지옥으로지옥으로지옥으로지옥으로지옥으로지옥으로지옥으로지옥으로지옥으로지옥으로지옥으로지옥으로지옥으로지옥으로지옥으로지옥으로지옥으로지옥으로지옥으로지옥으로지옥으로지옥으로지옥으로지옥으로지옥으로지옥으로지옥으로지옥으로지옥으로지옥으로지옥으로지옥으로지옥으로지옥으로지옥으로지옥으로지옥으로지옥으로지옥으로지옥으로지옥으로지옥으로지옥으로지옥으로지옥으로지옥으로지옥으로지옥으로지옥으로지옥으로지옥으로지옥으로지옥으로지옥으로지옥으로지옥으로지옥으로지옥으로지옥으로지옥으로지옥으로지옥으로지옥으로지옥으로지옥으로지옥으로지옥으로지옥으로지옥으로지옥으로지옥으로지옥으로지옥으로지옥으로지옥으로지옥으로지옥으로지옥으로지옥으로지옥으로지옥으로지옥으로지옥으로지옥으로지옥으로지옥으로지옥으로지옥으로지옥으로지옥으로지옥으로지옥으로지옥으로지옥으로지옥으로지옥으로지옥으로지옥으로지옥으로지옥으로지옥으로지옥으로지옥으로지옥으로지옥으로지옥으로지옥으로지옥으로지옥으로지옥으로지옥으로지옥으로지옥으로지옥으로지옥으로지옥으로지옥으로지옥으로지옥으로지옥으로지옥으로지옥으로지옥으로지옥으로지옥으로지옥으로지옥으로지옥으로지옥으로지옥으로지옥으로지옥으로지옥으로지옥으로지옥으로지옥으로지옥으로지옥으로지옥으로지옥으로지옥으로지옥으로지옥으로지옥으로지옥으로지옥으로지옥으로지옥으로지옥으로지옥으로지옥으로지옥으로지옥으로지옥으로지옥으로지옥으로지옥으로지옥으로지옥으로지옥으로지옥으로지옥으로지옥으로지옥으로지옥으로지옥으로지옥으로지옥으로지옥으로지옥으로지옥으로지옥으로지옥으로지옥으로지옥으로지옥으로지옥으로지옥으로지옥으로지옥으로지옥으로지옥으로지옥으로지옥으로지옥으로지옥으로지옥으로지옥으로지옥으로지옥으로지옥으로지옥으로지옥으로지옥으로지옥으로지옥으로지옥으로지옥으로지옥으로지옥으로지옥으로지옥으로지옥으로지옥으로지옥으로지옥으로지옥으로지옥으로지옥으로지옥으로지옥으로지옥으로지옥으로지옥으로지옥으로지옥으로지옥으로지옥으로지옥으로지옥으로지옥으로"
     ]
    }
   ],
   "source": [
    "for i in range(1000):\n",
    "    Hello()"
   ]
  },
  {
   "cell_type": "code",
   "execution_count": 1,
   "id": "abfa4033",
   "metadata": {},
   "outputs": [],
   "source": [
    "def add(a,b):\n",
    "    return a+b"
   ]
  },
  {
   "cell_type": "code",
   "execution_count": 2,
   "id": "33f70220",
   "metadata": {},
   "outputs": [
    {
     "data": {
      "text/plain": [
       "3"
      ]
     },
     "execution_count": 2,
     "metadata": {},
     "output_type": "execute_result"
    }
   ],
   "source": [
    "add(1,2)"
   ]
  },
  {
   "cell_type": "code",
   "execution_count": 3,
   "id": "5b8d077d",
   "metadata": {},
   "outputs": [],
   "source": [
    "c=add(1,2)"
   ]
  },
  {
   "cell_type": "code",
   "execution_count": 4,
   "id": "6d4a8d49",
   "metadata": {},
   "outputs": [
    {
     "data": {
      "text/plain": [
       "3"
      ]
     },
     "execution_count": 4,
     "metadata": {},
     "output_type": "execute_result"
    }
   ],
   "source": [
    "c\n"
   ]
  },
  {
   "cell_type": "code",
   "execution_count": 6,
   "id": "f30a371d",
   "metadata": {},
   "outputs": [
    {
     "name": "stdout",
     "output_type": "stream",
     "text": [
      "3\n"
     ]
    }
   ],
   "source": [
    "print(add(1,2))"
   ]
  },
  {
   "cell_type": "code",
   "execution_count": 7,
   "id": "64ceea4e",
   "metadata": {},
   "outputs": [],
   "source": [
    "def add_sub(a,b):\n",
    "    return a+b, a-b"
   ]
  },
  {
   "cell_type": "code",
   "execution_count": 8,
   "id": "b6a73b12",
   "metadata": {},
   "outputs": [
    {
     "data": {
      "text/plain": [
       "(30, -10)"
      ]
     },
     "execution_count": 8,
     "metadata": {},
     "output_type": "execute_result"
    }
   ],
   "source": [
    "add_sub(10,20)"
   ]
  },
  {
   "cell_type": "code",
   "execution_count": 9,
   "id": "dd148d3b",
   "metadata": {},
   "outputs": [],
   "source": [
    "x,y = add_sub(10,20)"
   ]
  },
  {
   "cell_type": "code",
   "execution_count": 10,
   "id": "d25fb358",
   "metadata": {},
   "outputs": [
    {
     "data": {
      "text/plain": [
       "30"
      ]
     },
     "execution_count": 10,
     "metadata": {},
     "output_type": "execute_result"
    }
   ],
   "source": [
    "x"
   ]
  },
  {
   "cell_type": "code",
   "execution_count": 11,
   "id": "c4af715a",
   "metadata": {},
   "outputs": [
    {
     "data": {
      "text/plain": [
       "-10"
      ]
     },
     "execution_count": 11,
     "metadata": {},
     "output_type": "execute_result"
    }
   ],
   "source": [
    "y"
   ]
  },
  {
   "cell_type": "code",
   "execution_count": 12,
   "id": "ffcec349",
   "metadata": {},
   "outputs": [
    {
     "data": {
      "text/plain": [
       "(30, -10)"
      ]
     },
     "execution_count": 12,
     "metadata": {},
     "output_type": "execute_result"
    }
   ],
   "source": [
    "x,y"
   ]
  },
  {
   "cell_type": "code",
   "execution_count": 14,
   "id": "df1252a8",
   "metadata": {},
   "outputs": [],
   "source": [
    "a=[0,0]"
   ]
  },
  {
   "cell_type": "code",
   "execution_count": 19,
   "id": "c200b3a2",
   "metadata": {},
   "outputs": [],
   "source": [
    "a=list(add_sub(10,20))"
   ]
  },
  {
   "cell_type": "code",
   "execution_count": 20,
   "id": "16de9bf0",
   "metadata": {},
   "outputs": [
    {
     "data": {
      "text/plain": [
       "[30, -10]"
      ]
     },
     "execution_count": 20,
     "metadata": {},
     "output_type": "execute_result"
    }
   ],
   "source": [
    "a"
   ]
  },
  {
   "cell_type": "code",
   "execution_count": 21,
   "id": "f277c7e6",
   "metadata": {},
   "outputs": [],
   "source": [
    "a=10\n",
    "b=20\n",
    "\n",
    "def add2(c,d):\n",
    "    return c+d"
   ]
  },
  {
   "cell_type": "code",
   "execution_count": 23,
   "id": "bc002df4",
   "metadata": {},
   "outputs": [
    {
     "data": {
      "text/plain": [
       "30"
      ]
     },
     "execution_count": 23,
     "metadata": {},
     "output_type": "execute_result"
    }
   ],
   "source": [
    "add2(a,b)"
   ]
  },
  {
   "cell_type": "code",
   "execution_count": 24,
   "id": "87da9051",
   "metadata": {},
   "outputs": [],
   "source": [
    "a=10\n",
    "b=20\n",
    "\n",
    "def add3(c,d):\n",
    "    return a+b+c+d"
   ]
  },
  {
   "cell_type": "code",
   "execution_count": 26,
   "id": "f9c3ceeb",
   "metadata": {},
   "outputs": [
    {
     "data": {
      "text/plain": [
       "60"
      ]
     },
     "execution_count": 26,
     "metadata": {},
     "output_type": "execute_result"
    }
   ],
   "source": [
    "add3(a,b)"
   ]
  },
  {
   "cell_type": "code",
   "execution_count": 27,
   "id": "01198075",
   "metadata": {},
   "outputs": [],
   "source": [
    "a=10\n",
    "b=20\n",
    "\n",
    "def add4(c,d):\n",
    "    a=0\n",
    "    b=0\n",
    "    return a+b+c+d"
   ]
  },
  {
   "cell_type": "code",
   "execution_count": 28,
   "id": "b9af6014",
   "metadata": {},
   "outputs": [
    {
     "data": {
      "text/plain": [
       "30"
      ]
     },
     "execution_count": 28,
     "metadata": {},
     "output_type": "execute_result"
    }
   ],
   "source": [
    "add4(a,b)"
   ]
  },
  {
   "cell_type": "code",
   "execution_count": 29,
   "id": "1e35054b",
   "metadata": {},
   "outputs": [
    {
     "data": {
      "text/plain": [
       "10"
      ]
     },
     "execution_count": 29,
     "metadata": {},
     "output_type": "execute_result"
    }
   ],
   "source": [
    "a"
   ]
  },
  {
   "cell_type": "code",
   "execution_count": 30,
   "id": "5abde0e3",
   "metadata": {},
   "outputs": [
    {
     "data": {
      "text/plain": [
       "20"
      ]
     },
     "execution_count": 30,
     "metadata": {},
     "output_type": "execute_result"
    }
   ],
   "source": [
    "b"
   ]
  },
  {
   "cell_type": "code",
   "execution_count": 31,
   "id": "2b5cbb1a",
   "metadata": {},
   "outputs": [],
   "source": [
    "def print_numbers(a,b,c):\n",
    "    print(a,b,c)"
   ]
  },
  {
   "cell_type": "code",
   "execution_count": 32,
   "id": "90a11feb",
   "metadata": {},
   "outputs": [
    {
     "name": "stdout",
     "output_type": "stream",
     "text": [
      "10 20 30\n"
     ]
    }
   ],
   "source": [
    "print_numbers(10,20,30)"
   ]
  },
  {
   "cell_type": "code",
   "execution_count": 34,
   "id": "3578605d",
   "metadata": {},
   "outputs": [
    {
     "name": "stdout",
     "output_type": "stream",
     "text": [
      "10 20 30\n"
     ]
    }
   ],
   "source": [
    "x=[10,20,30]\n",
    "print_numbers(*x)"
   ]
  },
  {
   "cell_type": "code",
   "execution_count": 35,
   "id": "f0e4018e",
   "metadata": {},
   "outputs": [],
   "source": [
    "def print_numbers(*args):\n",
    "    for arg in args:\n",
    "        print(arg,end=' ')"
   ]
  },
  {
   "cell_type": "code",
   "execution_count": 36,
   "id": "613cc8c8",
   "metadata": {},
   "outputs": [
    {
     "name": "stdout",
     "output_type": "stream",
     "text": [
      "10 20 "
     ]
    }
   ],
   "source": [
    "print_numbers(10,20)"
   ]
  },
  {
   "cell_type": "code",
   "execution_count": 37,
   "id": "93daf88b",
   "metadata": {},
   "outputs": [
    {
     "name": "stdout",
     "output_type": "stream",
     "text": [
      "10 2 "
     ]
    }
   ],
   "source": [
    "print_numbers(10,'2')"
   ]
  },
  {
   "cell_type": "code",
   "execution_count": 40,
   "id": "f819b420",
   "metadata": {},
   "outputs": [
    {
     "name": "stdout",
     "output_type": "stream",
     "text": [
      "10 20 30 40 50 "
     ]
    }
   ],
   "source": [
    "x=[10,20,30,40,50]\n",
    "print_numbers(*x)"
   ]
  },
  {
   "cell_type": "code",
   "execution_count": 45,
   "id": "89a7cc04",
   "metadata": {},
   "outputs": [],
   "source": [
    "def print_numbers(*args):\n",
    "    print(type(args))\n",
    "    for arg in args:\n",
    "        print(arg,end=' ')\n"
   ]
  },
  {
   "cell_type": "code",
   "execution_count": 46,
   "id": "db75e92f",
   "metadata": {},
   "outputs": [
    {
     "name": "stdout",
     "output_type": "stream",
     "text": [
      "<class 'tuple'>\n",
      "10 20 30 40 "
     ]
    }
   ],
   "source": [
    "print_numbers(*[10,20,30,40])"
   ]
  },
  {
   "cell_type": "code",
   "execution_count": 50,
   "id": "056ac650",
   "metadata": {},
   "outputs": [],
   "source": [
    "def personal_info(name='이름',age='나이'):\n",
    "    print(name,age)"
   ]
  },
  {
   "cell_type": "code",
   "execution_count": 51,
   "id": "d02a2a58",
   "metadata": {},
   "outputs": [
    {
     "name": "stdout",
     "output_type": "stream",
     "text": [
      "이름 나이\n"
     ]
    }
   ],
   "source": [
    "personal_info()"
   ]
  },
  {
   "cell_type": "code",
   "execution_count": null,
   "id": "5414e4a6",
   "metadata": {},
   "outputs": [],
   "source": []
  }
 ],
 "metadata": {
  "kernelspec": {
   "display_name": "Python 3 (ipykernel)",
   "language": "python",
   "name": "python3"
  },
  "language_info": {
   "codemirror_mode": {
    "name": "ipython",
    "version": 3
   },
   "file_extension": ".py",
   "mimetype": "text/x-python",
   "name": "python",
   "nbconvert_exporter": "python",
   "pygments_lexer": "ipython3",
   "version": "3.9.7"
  }
 },
 "nbformat": 4,
 "nbformat_minor": 5
}
