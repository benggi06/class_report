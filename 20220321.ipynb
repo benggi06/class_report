{
 "cells": [
  {
   "cell_type": "code",
   "execution_count": 19,
   "id": "ed3d8ec5",
   "metadata": {},
   "outputs": [
    {
     "name": "stdout",
     "output_type": "stream",
     "text": [
      "10,20\n",
      "두 수의 합은 30이다\n"
     ]
    }
   ],
   "source": [
    "a,b=input().split(',')\n",
    "sum=int(a)+int(b)\n",
    "print('두 수의 합은 {0}이다'.format(sum))"
   ]
  },
  {
   "cell_type": "code",
   "execution_count": 33,
   "id": "2d76be2c",
   "metadata": {},
   "outputs": [
    {
     "name": "stdout",
     "output_type": "stream",
     "text": [
      "세 수를 입력해주세요10 20 30\n",
      "세 수의 합은:60\n"
     ]
    }
   ],
   "source": [
    "a,b,c=map(int,input('세 수를 입력해주세요').split())\n",
    "sum=a+b+c\n",
    "\n",
    "print('세 수의 합은',sum,sep=':')"
   ]
  },
  {
   "cell_type": "code",
   "execution_count": 1,
   "id": "9211dbae",
   "metadata": {},
   "outputs": [
    {
     "name": "stdout",
     "output_type": "stream",
     "text": [
      "3\n",
      "3\n"
     ]
    }
   ],
   "source": [
    "print(1,2,3,sep='\\n')"
   ]
  },
  {
   "cell_type": "code",
   "execution_count": null,
   "id": "3e6934a9",
   "metadata": {},
   "outputs": [],
   "source": []
  }
 ],
 "metadata": {
  "kernelspec": {
   "display_name": "Python 3 (ipykernel)",
   "language": "python",
   "name": "python3"
  },
  "language_info": {
   "codemirror_mode": {
    "name": "ipython",
    "version": 3
   },
   "file_extension": ".py",
   "mimetype": "text/x-python",
   "name": "python",
   "nbconvert_exporter": "python",
   "pygments_lexer": "ipython3",
   "version": "3.9.7"
  }
 },
 "nbformat": 4,
 "nbformat_minor": 5
}
