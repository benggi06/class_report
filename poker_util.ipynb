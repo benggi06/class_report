{
 "cells": [
  {
   "cell_type": "markdown",
   "id": "8ad53356",
   "metadata": {},
   "source": [
    "### 포커게임 유틸"
   ]
  },
  {
   "cell_type": "code",
   "execution_count": 26,
   "id": "984b93ea",
   "metadata": {},
   "outputs": [],
   "source": [
    "SUIT_TUPLE=('Club','Diamond','Heart','Spade')\n",
    "RANK_TUPLE=('Ace','2','3','4','5','6','7','8','9','10','Jack','Queen','King')\n",
    "\n",
    "def createDeck():\n",
    "    deck=[]\n",
    "    for suit in SUIT_TUPLE:\n",
    "        for value,rank in enumerate(RANK_TUPLE):\n",
    "            card={'suit':suit,'rank':rank,'value':value+1}\n",
    "            deck.append(card)\n",
    "            \n",
    "    return deck"
   ]
  },
  {
   "cell_type": "code",
   "execution_count": 27,
   "id": "6b5ea585",
   "metadata": {},
   "outputs": [],
   "source": [
    "import random\n",
    "def shuffleCards(deck):\n",
    "    deck=random.shuffle(deck)\n",
    "    return deck"
   ]
  },
  {
   "cell_type": "code",
   "execution_count": 28,
   "id": "c3f80831",
   "metadata": {},
   "outputs": [],
   "source": [
    "def viewCardList(cardList):\n",
    "    \n",
    "    for i,card in enumerate(cardList):\n",
    "        print(f\"{i+1}. {card['suit']} {card['rank']}\")"
   ]
  },
  {
   "cell_type": "code",
   "execution_count": 38,
   "id": "67154e9d",
   "metadata": {},
   "outputs": [],
   "source": [
    "def getCard(deck,numCards):\n",
    "    cardList=deck[-numCards:]\n",
    "    del deck[-numCards:]\n",
    "    \n",
    "    return cardList"
   ]
  },
  {
   "cell_type": "code",
   "execution_count": 77,
   "id": "04ebfc54",
   "metadata": {},
   "outputs": [],
   "source": [
    "#카드정렬\n",
    "def sortCards(cardList):\n",
    "    spade=[]\n",
    "    diamond=[]\n",
    "    heart=[]\n",
    "    club=[]\n",
    "    \n",
    "    cardList=sorted(cardList,key=lambda x:(x['value']))\n",
    "    \n",
    "    for i,card in enumerate(cardList):\n",
    "        if card['suit'] == 'Spade':\n",
    "            spade.append(cardList[i])\n",
    "            \n",
    "        elif card['suit'] == 'Diamond':\n",
    "            diamond.append(cardList[i])\n",
    "            \n",
    "        elif card['suit'] == 'Heart':\n",
    "            heart.append(cardList[i])\n",
    "            \n",
    "        elif card['suit'] == 'Club':\n",
    "            club.append(cardList[i])\n",
    "            \n",
    "    cardList=club+heart+diamond+spade\n",
    "            \n",
    "    return cardList"
   ]
  },
  {
   "cell_type": "code",
   "execution_count": 78,
   "id": "1043001e",
   "metadata": {},
   "outputs": [],
   "source": [
    "def handCards(deck,playerCards):\n",
    "    plusCard=getCard(deck,1)\n",
    "    \n",
    "    playerCards=sortCards(playerCards+plusCard)\n",
    "    \n",
    "    return playerCards\n",
    "    "
   ]
  },
  {
   "cell_type": "code",
   "execution_count": 101,
   "id": "f77f0989",
   "metadata": {},
   "outputs": [],
   "source": [
    "deckList=createDeck()"
   ]
  },
  {
   "cell_type": "code",
   "execution_count": 102,
   "id": "19333a0b",
   "metadata": {},
   "outputs": [],
   "source": [
    "shuffleCards(deckList)"
   ]
  },
  {
   "cell_type": "code",
   "execution_count": 103,
   "id": "c0b30480",
   "metadata": {},
   "outputs": [],
   "source": [
    "cardList=getCard(deckList,2)"
   ]
  },
  {
   "cell_type": "code",
   "execution_count": 104,
   "id": "17876b9f",
   "metadata": {},
   "outputs": [
    {
     "data": {
      "text/plain": [
       "50"
      ]
     },
     "execution_count": 104,
     "metadata": {},
     "output_type": "execute_result"
    }
   ],
   "source": [
    "len(deckList)"
   ]
  },
  {
   "cell_type": "code",
   "execution_count": 105,
   "id": "4aab416b",
   "metadata": {},
   "outputs": [
    {
     "data": {
      "text/plain": [
       "[{'suit': 'Heart', 'rank': '6', 'value': 6},\n",
       " {'suit': 'Spade', 'rank': '4', 'value': 4}]"
      ]
     },
     "execution_count": 105,
     "metadata": {},
     "output_type": "execute_result"
    }
   ],
   "source": [
    "sortCards(cardList)"
   ]
  },
  {
   "cell_type": "code",
   "execution_count": 106,
   "id": "bcac3819",
   "metadata": {},
   "outputs": [],
   "source": []
  },
  {
   "cell_type": "markdown",
   "id": "0de2afdb",
   "metadata": {},
   "source": [
    "### 족보 "
   ]
  },
  {
   "cell_type": "code",
   "execution_count": 113,
   "id": "8c1c5466",
   "metadata": {},
   "outputs": [],
   "source": [
    "sp,dp,hp,cp=3,2,1,0\n",
    "def isFlush(cardList):\n",
    "    if cardList[0:]['suit']=='Spade':\n",
    "        return True\n",
    "    \n",
    "    elif cardList[0:]['suit']=='Diamond':\n",
    "        return True\n",
    "    \n",
    "    elif cardList[0:]['suit']=='Heart':\n",
    "        return True\n",
    "    \n",
    "    elif cardList[0:]['suit']=='Club':\n",
    "        return True\n",
    "    \n",
    "    else:\n",
    "        return None"
   ]
  },
  {
   "cell_type": "code",
   "execution_count": 110,
   "id": "6eb86bec",
   "metadata": {},
   "outputs": [
    {
     "data": {
      "text/plain": [
       "[{'suit': 'Heart', 'rank': '6', 'value': 6},\n",
       " {'suit': 'Diamond', 'rank': 'Ace', 'value': 1},\n",
       " {'suit': 'Spade', 'rank': '4', 'value': 4}]"
      ]
     },
     "execution_count": 110,
     "metadata": {},
     "output_type": "execute_result"
    }
   ],
   "source": []
  },
  {
   "cell_type": "code",
   "execution_count": 111,
   "id": "20ac7ea4",
   "metadata": {},
   "outputs": [],
   "source": [
    "isHigh(cardList)"
   ]
  },
  {
   "cell_type": "code",
   "execution_count": 112,
   "id": "736afa12",
   "metadata": {},
   "outputs": [
    {
     "data": {
      "text/plain": [
       "43"
      ]
     },
     "execution_count": 112,
     "metadata": {},
     "output_type": "execute_result"
    }
   ],
   "source": [
    "winPoint"
   ]
  },
  {
   "cell_type": "code",
   "execution_count": null,
   "id": "1dfc1acf",
   "metadata": {},
   "outputs": [],
   "source": []
  }
 ],
 "metadata": {
  "kernelspec": {
   "display_name": "Python 3 (ipykernel)",
   "language": "python",
   "name": "python3"
  },
  "language_info": {
   "codemirror_mode": {
    "name": "ipython",
    "version": 3
   },
   "file_extension": ".py",
   "mimetype": "text/x-python",
   "name": "python",
   "nbconvert_exporter": "python",
   "pygments_lexer": "ipython3",
   "version": "3.9.12"
  }
 },
 "nbformat": 4,
 "nbformat_minor": 5
}
